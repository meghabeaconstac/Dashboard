{
 "cells": [
  {
   "cell_type": "code",
   "execution_count": 1,
   "metadata": {},
   "outputs": [
    {
     "name": "stdout",
     "output_type": "stream",
     "text": [
      "Requirement already satisfied: pyspark in /Users/Megha/opt/anaconda3/lib/python3.9/site-packages (3.3.1)\n",
      "Requirement already satisfied: py4j==0.10.9.5 in /Users/Megha/opt/anaconda3/lib/python3.9/site-packages (from pyspark) (0.10.9.5)\n",
      "Note: you may need to restart the kernel to use updated packages.\n"
     ]
    }
   ],
   "source": [
    "%pip install pyspark\n"
   ]
  },
  {
   "cell_type": "code",
   "execution_count": 2,
   "metadata": {},
   "outputs": [],
   "source": [
    "import pyspark"
   ]
  },
  {
   "cell_type": "code",
   "execution_count": 3,
   "metadata": {},
   "outputs": [],
   "source": [
    "import pandas as pd"
   ]
  },
  {
   "cell_type": "code",
   "execution_count": 4,
   "metadata": {},
   "outputs": [
    {
     "data": {
      "text/html": [
       "<div>\n",
       "<style scoped>\n",
       "    .dataframe tbody tr th:only-of-type {\n",
       "        vertical-align: middle;\n",
       "    }\n",
       "\n",
       "    .dataframe tbody tr th {\n",
       "        vertical-align: top;\n",
       "    }\n",
       "\n",
       "    .dataframe thead th {\n",
       "        text-align: right;\n",
       "    }\n",
       "</style>\n",
       "<table border=\"1\" class=\"dataframe\">\n",
       "  <thead>\n",
       "    <tr style=\"text-align: right;\">\n",
       "      <th></th>\n",
       "      <th>Report ID</th>\n",
       "      <th>Report Type</th>\n",
       "      <th>Arrest Date</th>\n",
       "      <th>Time</th>\n",
       "      <th>Area ID</th>\n",
       "      <th>Area Name</th>\n",
       "      <th>Reporting District</th>\n",
       "      <th>Age</th>\n",
       "      <th>Sex Code</th>\n",
       "      <th>Descent Code</th>\n",
       "      <th>...</th>\n",
       "      <th>Disposition Description</th>\n",
       "      <th>Address</th>\n",
       "      <th>Cross Street</th>\n",
       "      <th>LAT</th>\n",
       "      <th>LON</th>\n",
       "      <th>Location</th>\n",
       "      <th>Booking Date</th>\n",
       "      <th>Booking Time</th>\n",
       "      <th>Booking Location</th>\n",
       "      <th>Booking Location Code</th>\n",
       "    </tr>\n",
       "  </thead>\n",
       "  <tbody>\n",
       "    <tr>\n",
       "      <th>0</th>\n",
       "      <td>2377805</td>\n",
       "      <td>BOOKING</td>\n",
       "      <td>06/22/2010</td>\n",
       "      <td>1845.0</td>\n",
       "      <td>16</td>\n",
       "      <td>Foothill</td>\n",
       "      <td>1664</td>\n",
       "      <td>46</td>\n",
       "      <td>F</td>\n",
       "      <td>W</td>\n",
       "      <td>...</td>\n",
       "      <td>MISDEMEANOR COMPLAINT FILED</td>\n",
       "      <td>PENDLETON</td>\n",
       "      <td>GLENOAKS</td>\n",
       "      <td>34.2375</td>\n",
       "      <td>-118.3745</td>\n",
       "      <td>POINT (-118.3745 34.2375)</td>\n",
       "      <td>06/22/2010 12:00:00 AM</td>\n",
       "      <td>2108.0</td>\n",
       "      <td>VALLEY - JAIL DIV</td>\n",
       "      <td>4279.0</td>\n",
       "    </tr>\n",
       "    <tr>\n",
       "      <th>1</th>\n",
       "      <td>121920046</td>\n",
       "      <td>RFC</td>\n",
       "      <td>09/28/2012</td>\n",
       "      <td>930.0</td>\n",
       "      <td>19</td>\n",
       "      <td>Mission</td>\n",
       "      <td>1998</td>\n",
       "      <td>60</td>\n",
       "      <td>M</td>\n",
       "      <td>H</td>\n",
       "      <td>...</td>\n",
       "      <td>MISDEMEANOR COMPLAINT FILED</td>\n",
       "      <td>7600    WOODMAN                      AV</td>\n",
       "      <td>NaN</td>\n",
       "      <td>34.2111</td>\n",
       "      <td>-118.4309</td>\n",
       "      <td>POINT (-118.4309 34.2111)</td>\n",
       "      <td>NaN</td>\n",
       "      <td>NaN</td>\n",
       "      <td>NaN</td>\n",
       "      <td>NaN</td>\n",
       "    </tr>\n",
       "    <tr>\n",
       "      <th>2</th>\n",
       "      <td>101820989</td>\n",
       "      <td>RFC</td>\n",
       "      <td>10/20/2010</td>\n",
       "      <td>700.0</td>\n",
       "      <td>18</td>\n",
       "      <td>Southeast</td>\n",
       "      <td>1829</td>\n",
       "      <td>14</td>\n",
       "      <td>M</td>\n",
       "      <td>H</td>\n",
       "      <td>...</td>\n",
       "      <td>NaN</td>\n",
       "      <td>7200    QUAIL                        DR</td>\n",
       "      <td>NaN</td>\n",
       "      <td>34.1025</td>\n",
       "      <td>-118.2091</td>\n",
       "      <td>POINT (-118.2091 34.1025)</td>\n",
       "      <td>NaN</td>\n",
       "      <td>NaN</td>\n",
       "      <td>NaN</td>\n",
       "      <td>NaN</td>\n",
       "    </tr>\n",
       "    <tr>\n",
       "      <th>3</th>\n",
       "      <td>90712341</td>\n",
       "      <td>RFC</td>\n",
       "      <td>03/10/2011</td>\n",
       "      <td>940.0</td>\n",
       "      <td>7</td>\n",
       "      <td>Wilshire</td>\n",
       "      <td>776</td>\n",
       "      <td>45</td>\n",
       "      <td>M</td>\n",
       "      <td>B</td>\n",
       "      <td>...</td>\n",
       "      <td>MISDEMEANOR COMPLAINT FILED</td>\n",
       "      <td>4500 W  WASHINGTON                   BL</td>\n",
       "      <td>NaN</td>\n",
       "      <td>34.0399</td>\n",
       "      <td>-118.3375</td>\n",
       "      <td>POINT (-118.3375 34.0399)</td>\n",
       "      <td>NaN</td>\n",
       "      <td>NaN</td>\n",
       "      <td>NaN</td>\n",
       "      <td>NaN</td>\n",
       "    </tr>\n",
       "    <tr>\n",
       "      <th>4</th>\n",
       "      <td>121909585</td>\n",
       "      <td>RFC</td>\n",
       "      <td>04/01/2012</td>\n",
       "      <td>1715.0</td>\n",
       "      <td>19</td>\n",
       "      <td>Mission</td>\n",
       "      <td>1993</td>\n",
       "      <td>37</td>\n",
       "      <td>M</td>\n",
       "      <td>H</td>\n",
       "      <td>...</td>\n",
       "      <td>MISDEMEANOR COMPLAINT FILED</td>\n",
       "      <td>8100    SEPULVEDA                    PL</td>\n",
       "      <td>NaN</td>\n",
       "      <td>34.2208</td>\n",
       "      <td>-118.4662</td>\n",
       "      <td>POINT (-118.4662 34.2208)</td>\n",
       "      <td>NaN</td>\n",
       "      <td>NaN</td>\n",
       "      <td>NaN</td>\n",
       "      <td>NaN</td>\n",
       "    </tr>\n",
       "    <tr>\n",
       "      <th>...</th>\n",
       "      <td>...</td>\n",
       "      <td>...</td>\n",
       "      <td>...</td>\n",
       "      <td>...</td>\n",
       "      <td>...</td>\n",
       "      <td>...</td>\n",
       "      <td>...</td>\n",
       "      <td>...</td>\n",
       "      <td>...</td>\n",
       "      <td>...</td>\n",
       "      <td>...</td>\n",
       "      <td>...</td>\n",
       "      <td>...</td>\n",
       "      <td>...</td>\n",
       "      <td>...</td>\n",
       "      <td>...</td>\n",
       "      <td>...</td>\n",
       "      <td>...</td>\n",
       "      <td>...</td>\n",
       "      <td>...</td>\n",
       "      <td>...</td>\n",
       "    </tr>\n",
       "    <tr>\n",
       "      <th>1321123</th>\n",
       "      <td>3402284</td>\n",
       "      <td>BOOKING</td>\n",
       "      <td>12/16/2012</td>\n",
       "      <td>2000.0</td>\n",
       "      <td>13</td>\n",
       "      <td>Newton</td>\n",
       "      <td>1343</td>\n",
       "      <td>27</td>\n",
       "      <td>M</td>\n",
       "      <td>H</td>\n",
       "      <td>...</td>\n",
       "      <td>FELONY COMPLAINT FILED</td>\n",
       "      <td>800 E  JEFFERSON                    BL</td>\n",
       "      <td>NaN</td>\n",
       "      <td>34.0146</td>\n",
       "      <td>-118.2635</td>\n",
       "      <td>POINT (-118.2635 34.0146)</td>\n",
       "      <td>12/16/2012 12:00:00 AM</td>\n",
       "      <td>2303.0</td>\n",
       "      <td>METRO - JAIL DIVISION</td>\n",
       "      <td>4273.0</td>\n",
       "    </tr>\n",
       "    <tr>\n",
       "      <th>1321124</th>\n",
       "      <td>5049286</td>\n",
       "      <td>BOOKING</td>\n",
       "      <td>07/20/2017</td>\n",
       "      <td>2005.0</td>\n",
       "      <td>13</td>\n",
       "      <td>Newton</td>\n",
       "      <td>1395</td>\n",
       "      <td>27</td>\n",
       "      <td>M</td>\n",
       "      <td>H</td>\n",
       "      <td>...</td>\n",
       "      <td>FELONY COMPLAINT FILED</td>\n",
       "      <td>300 E  71ST                         ST</td>\n",
       "      <td>NaN</td>\n",
       "      <td>33.9754</td>\n",
       "      <td>-118.2696</td>\n",
       "      <td>POINT (-118.2696 33.9754)</td>\n",
       "      <td>07/20/2017 12:00:00 AM</td>\n",
       "      <td>2311.0</td>\n",
       "      <td>METRO - JAIL DIVISION</td>\n",
       "      <td>4273.0</td>\n",
       "    </tr>\n",
       "    <tr>\n",
       "      <th>1321125</th>\n",
       "      <td>4883815</td>\n",
       "      <td>BOOKING</td>\n",
       "      <td>01/16/2017</td>\n",
       "      <td>2225.0</td>\n",
       "      <td>13</td>\n",
       "      <td>Newton</td>\n",
       "      <td>1352</td>\n",
       "      <td>44</td>\n",
       "      <td>M</td>\n",
       "      <td>H</td>\n",
       "      <td>...</td>\n",
       "      <td>OTHER (REQUIRES ADDITION ACTION)</td>\n",
       "      <td>200 E  VERNON                       AV</td>\n",
       "      <td>NaN</td>\n",
       "      <td>34.0038</td>\n",
       "      <td>-118.2718</td>\n",
       "      <td>POINT (-118.2718 34.0038)</td>\n",
       "      <td>01/16/2017 12:00:00 AM</td>\n",
       "      <td>2351.0</td>\n",
       "      <td>77TH ST</td>\n",
       "      <td>4212.0</td>\n",
       "    </tr>\n",
       "    <tr>\n",
       "      <th>1321126</th>\n",
       "      <td>5369833</td>\n",
       "      <td>BOOKING</td>\n",
       "      <td>07/18/2018</td>\n",
       "      <td>240.0</td>\n",
       "      <td>16</td>\n",
       "      <td>Foothill</td>\n",
       "      <td>1622</td>\n",
       "      <td>19</td>\n",
       "      <td>M</td>\n",
       "      <td>H</td>\n",
       "      <td>...</td>\n",
       "      <td>MISDEMEANOR COMPLAINT FILED</td>\n",
       "      <td>VAN NUYS</td>\n",
       "      <td>EL DORADO</td>\n",
       "      <td>34.2648</td>\n",
       "      <td>-118.4238</td>\n",
       "      <td>POINT (-118.4238 34.2648)</td>\n",
       "      <td>07/18/2018 12:00:00 AM</td>\n",
       "      <td>456.0</td>\n",
       "      <td>VALLEY - JAIL DIV</td>\n",
       "      <td>4279.0</td>\n",
       "    </tr>\n",
       "    <tr>\n",
       "      <th>1321127</th>\n",
       "      <td>2804140</td>\n",
       "      <td>BOOKING</td>\n",
       "      <td>07/09/2011</td>\n",
       "      <td>2145.0</td>\n",
       "      <td>16</td>\n",
       "      <td>Foothill</td>\n",
       "      <td>1612</td>\n",
       "      <td>33</td>\n",
       "      <td>M</td>\n",
       "      <td>B</td>\n",
       "      <td>...</td>\n",
       "      <td>OTHER (REQUIRES ADDITION ACTION)</td>\n",
       "      <td>JUDD                         ST</td>\n",
       "      <td>BRADLEY                      ST</td>\n",
       "      <td>34.2712</td>\n",
       "      <td>-118.4206</td>\n",
       "      <td>POINT (-118.4206 34.2712)</td>\n",
       "      <td>07/10/2011 12:00:00 AM</td>\n",
       "      <td>38.0</td>\n",
       "      <td>FOOTHILL</td>\n",
       "      <td>4216.0</td>\n",
       "    </tr>\n",
       "  </tbody>\n",
       "</table>\n",
       "<p>1321128 rows × 25 columns</p>\n",
       "</div>"
      ],
      "text/plain": [
       "         Report ID Report Type Arrest Date    Time  Area ID  Area Name  \\\n",
       "0          2377805     BOOKING  06/22/2010  1845.0       16   Foothill   \n",
       "1        121920046         RFC  09/28/2012   930.0       19    Mission   \n",
       "2        101820989         RFC  10/20/2010   700.0       18  Southeast   \n",
       "3         90712341         RFC  03/10/2011   940.0        7   Wilshire   \n",
       "4        121909585         RFC  04/01/2012  1715.0       19    Mission   \n",
       "...            ...         ...         ...     ...      ...        ...   \n",
       "1321123    3402284     BOOKING  12/16/2012  2000.0       13     Newton   \n",
       "1321124    5049286     BOOKING  07/20/2017  2005.0       13     Newton   \n",
       "1321125    4883815     BOOKING  01/16/2017  2225.0       13     Newton   \n",
       "1321126    5369833     BOOKING  07/18/2018   240.0       16   Foothill   \n",
       "1321127    2804140     BOOKING  07/09/2011  2145.0       16   Foothill   \n",
       "\n",
       "         Reporting District  Age Sex Code Descent Code  ...  \\\n",
       "0                      1664   46        F            W  ...   \n",
       "1                      1998   60        M            H  ...   \n",
       "2                      1829   14        M            H  ...   \n",
       "3                       776   45        M            B  ...   \n",
       "4                      1993   37        M            H  ...   \n",
       "...                     ...  ...      ...          ...  ...   \n",
       "1321123                1343   27        M            H  ...   \n",
       "1321124                1395   27        M            H  ...   \n",
       "1321125                1352   44        M            H  ...   \n",
       "1321126                1622   19        M            H  ...   \n",
       "1321127                1612   33        M            B  ...   \n",
       "\n",
       "                  Disposition Description  \\\n",
       "0             MISDEMEANOR COMPLAINT FILED   \n",
       "1             MISDEMEANOR COMPLAINT FILED   \n",
       "2                                     NaN   \n",
       "3             MISDEMEANOR COMPLAINT FILED   \n",
       "4             MISDEMEANOR COMPLAINT FILED   \n",
       "...                                   ...   \n",
       "1321123            FELONY COMPLAINT FILED   \n",
       "1321124            FELONY COMPLAINT FILED   \n",
       "1321125  OTHER (REQUIRES ADDITION ACTION)   \n",
       "1321126       MISDEMEANOR COMPLAINT FILED   \n",
       "1321127  OTHER (REQUIRES ADDITION ACTION)   \n",
       "\n",
       "                                         Address  \\\n",
       "0                                      PENDLETON   \n",
       "1        7600    WOODMAN                      AV   \n",
       "2        7200    QUAIL                        DR   \n",
       "3        4500 W  WASHINGTON                   BL   \n",
       "4        8100    SEPULVEDA                    PL   \n",
       "...                                          ...   \n",
       "1321123   800 E  JEFFERSON                    BL   \n",
       "1321124   300 E  71ST                         ST   \n",
       "1321125   200 E  VERNON                       AV   \n",
       "1321126                                 VAN NUYS   \n",
       "1321127          JUDD                         ST   \n",
       "\n",
       "                            Cross Street      LAT       LON  \\\n",
       "0                               GLENOAKS  34.2375 -118.3745   \n",
       "1                                    NaN  34.2111 -118.4309   \n",
       "2                                    NaN  34.1025 -118.2091   \n",
       "3                                    NaN  34.0399 -118.3375   \n",
       "4                                    NaN  34.2208 -118.4662   \n",
       "...                                  ...      ...       ...   \n",
       "1321123                              NaN  34.0146 -118.2635   \n",
       "1321124                              NaN  33.9754 -118.2696   \n",
       "1321125                              NaN  34.0038 -118.2718   \n",
       "1321126                        EL DORADO  34.2648 -118.4238   \n",
       "1321127  BRADLEY                      ST  34.2712 -118.4206   \n",
       "\n",
       "                          Location            Booking Date Booking Time  \\\n",
       "0        POINT (-118.3745 34.2375)  06/22/2010 12:00:00 AM       2108.0   \n",
       "1        POINT (-118.4309 34.2111)                     NaN          NaN   \n",
       "2        POINT (-118.2091 34.1025)                     NaN          NaN   \n",
       "3        POINT (-118.3375 34.0399)                     NaN          NaN   \n",
       "4        POINT (-118.4662 34.2208)                     NaN          NaN   \n",
       "...                            ...                     ...          ...   \n",
       "1321123  POINT (-118.2635 34.0146)  12/16/2012 12:00:00 AM       2303.0   \n",
       "1321124  POINT (-118.2696 33.9754)  07/20/2017 12:00:00 AM       2311.0   \n",
       "1321125  POINT (-118.2718 34.0038)  01/16/2017 12:00:00 AM       2351.0   \n",
       "1321126  POINT (-118.4238 34.2648)  07/18/2018 12:00:00 AM        456.0   \n",
       "1321127  POINT (-118.4206 34.2712)  07/10/2011 12:00:00 AM         38.0   \n",
       "\n",
       "              Booking Location  Booking Location Code  \n",
       "0            VALLEY - JAIL DIV                 4279.0  \n",
       "1                          NaN                    NaN  \n",
       "2                          NaN                    NaN  \n",
       "3                          NaN                    NaN  \n",
       "4                          NaN                    NaN  \n",
       "...                        ...                    ...  \n",
       "1321123  METRO - JAIL DIVISION                 4273.0  \n",
       "1321124  METRO - JAIL DIVISION                 4273.0  \n",
       "1321125                77TH ST                 4212.0  \n",
       "1321126      VALLEY - JAIL DIV                 4279.0  \n",
       "1321127               FOOTHILL                 4216.0  \n",
       "\n",
       "[1321128 rows x 25 columns]"
      ]
     },
     "execution_count": 4,
     "metadata": {},
     "output_type": "execute_result"
    }
   ],
   "source": [
    "pd.read_csv('Arrest_Data.csv')"
   ]
  },
  {
   "cell_type": "code",
   "execution_count": 5,
   "metadata": {},
   "outputs": [],
   "source": [
    "from pyspark.sql import SparkSession"
   ]
  },
  {
   "cell_type": "code",
   "execution_count": 6,
   "metadata": {},
   "outputs": [
    {
     "name": "stdout",
     "output_type": "stream",
     "text": [
      "23/02/22 12:34:37 WARN Utils: Your hostname, RACs-MacBook-Pro.local resolves to a loopback address: 127.0.0.1; using 10.190.228.145 instead (on interface en0)\n",
      "23/02/22 12:34:37 WARN Utils: Set SPARK_LOCAL_IP if you need to bind to another address\n"
     ]
    },
    {
     "name": "stderr",
     "output_type": "stream",
     "text": [
      "Setting default log level to \"WARN\".\n",
      "To adjust logging level use sc.setLogLevel(newLevel). For SparkR, use setLogLevel(newLevel).\n"
     ]
    },
    {
     "name": "stdout",
     "output_type": "stream",
     "text": [
      "23/02/22 12:34:38 WARN NativeCodeLoader: Unable to load native-hadoop library for your platform... using builtin-java classes where applicable\n"
     ]
    }
   ],
   "source": [
    "spark = SparkSession.builder.appName('DemoProject').getOrCreate()\n"
   ]
  },
  {
   "cell_type": "code",
   "execution_count": 7,
   "metadata": {},
   "outputs": [
    {
     "data": {
      "text/html": [
       "\n",
       "            <div>\n",
       "                <p><b>SparkSession - in-memory</b></p>\n",
       "                \n",
       "        <div>\n",
       "            <p><b>SparkContext</b></p>\n",
       "\n",
       "            <p><a href=\"http://10.190.228.145:4040\">Spark UI</a></p>\n",
       "\n",
       "            <dl>\n",
       "              <dt>Version</dt>\n",
       "                <dd><code>v3.3.1</code></dd>\n",
       "              <dt>Master</dt>\n",
       "                <dd><code>local[*]</code></dd>\n",
       "              <dt>AppName</dt>\n",
       "                <dd><code>DemoProject</code></dd>\n",
       "            </dl>\n",
       "        </div>\n",
       "        \n",
       "            </div>\n",
       "        "
      ],
      "text/plain": [
       "<pyspark.sql.session.SparkSession at 0x7fb4be2e13a0>"
      ]
     },
     "execution_count": 7,
     "metadata": {},
     "output_type": "execute_result"
    }
   ],
   "source": [
    "spark"
   ]
  },
  {
   "cell_type": "code",
   "execution_count": 8,
   "metadata": {},
   "outputs": [
    {
     "name": "stderr",
     "output_type": "stream",
     "text": [
      "                                                                                \r"
     ]
    }
   ],
   "source": [
    "df_pyspark = spark.read.csv('Arrest_Data.csv')"
   ]
  },
  {
   "cell_type": "code",
   "execution_count": 9,
   "metadata": {},
   "outputs": [
    {
     "data": {
      "text/plain": [
       "DataFrame[_c0: string, _c1: string, _c2: string, _c3: string, _c4: string, _c5: string, _c6: string, _c7: string, _c8: string, _c9: string, _c10: string, _c11: string, _c12: string, _c13: string, _c14: string, _c15: string, _c16: string, _c17: string, _c18: string, _c19: string, _c20: string, _c21: string, _c22: string, _c23: string, _c24: string]"
      ]
     },
     "execution_count": 9,
     "metadata": {},
     "output_type": "execute_result"
    }
   ],
   "source": [
    "df_pyspark"
   ]
  },
  {
   "cell_type": "code",
   "execution_count": 10,
   "metadata": {},
   "outputs": [
    {
     "name": "stdout",
     "output_type": "stream",
     "text": [
      "+---------+-----------+-----------+----+-------+----------+------------------+---+--------+------------+-----------------+--------------------+----------------+-----------+--------------------+--------------------+--------------------+--------------------+-------+---------+--------------------+--------------------+------------+-----------------+--------------------+\n",
      "|      _c0|        _c1|        _c2| _c3|    _c4|       _c5|               _c6|_c7|     _c8|         _c9|             _c10|                _c11|            _c12|       _c13|                _c14|                _c15|                _c16|                _c17|   _c18|     _c19|                _c20|                _c21|        _c22|             _c23|                _c24|\n",
      "+---------+-----------+-----------+----+-------+----------+------------------+---+--------+------------+-----------------+--------------------+----------------+-----------+--------------------+--------------------+--------------------+--------------------+-------+---------+--------------------+--------------------+------------+-----------------+--------------------+\n",
      "|Report ID|Report Type|Arrest Date|Time|Area ID| Area Name|Reporting District|Age|Sex Code|Descent Code|Charge Group Code|Charge Group Desc...|Arrest Type Code|     Charge|  Charge Description|Disposition Descr...|             Address|        Cross Street|    LAT|      LON|            Location|        Booking Date|Booking Time| Booking Location|Booking Location ...|\n",
      "|  2377805|    BOOKING| 06/22/2010|1845|     16|  Foothill|              1664| 46|       F|           W|               06|             Larceny|               F|   487(A)PC|GRAND THEFT MONEY...|MISDEMEANOR COMPL...|           PENDLETON|            GLENOAKS|34.2375|-118.3745|POINT (-118.3745 ...|06/22/2010 12:00:...|        2108|VALLEY - JAIL DIV|                4279|\n",
      "|121920046|        RFC| 09/28/2012|0930|     19|   Mission|              1998| 60|       M|           H|             null|                null|               M| 25620(A)BP|                null|MISDEMEANOR COMPL...|7600    WOODMAN  ...|                null|34.2111|-118.4309|POINT (-118.4309 ...|                null|        null|             null|                null|\n",
      "|101820989|        RFC| 10/20/2010|0700|     18| Southeast|              1829| 14|       M|           H|               08|      Other Assaults|               M|      242PC|             BATTERY|                null|7200    QUAIL    ...|                null|34.1025|-118.2091|POINT (-118.2091 ...|                null|        null|             null|                null|\n",
      "|090712341|        RFC| 03/10/2011|0940|     07|  Wilshire|              0776| 45|       M|           B|               18|          Drunkeness|               M| 41.27CLAMC|  DRINKING IN PUBLIC|MISDEMEANOR COMPL...|4500 W  WASHINGTO...|                null|34.0399|-118.3375|POINT (-118.3375 ...|                null|        null|             null|                null|\n",
      "|121909585|        RFC| 04/01/2012|1715|     19|   Mission|              1993| 37|       M|           H|             null|                null|               M| 25620(A)BP|                null|MISDEMEANOR COMPL...|8100    SEPULVEDA...|                null|34.2208|-118.4662|POINT (-118.4662 ...|                null|        null|             null|                null|\n",
      "|100109543|        RFC| 04/14/2010|1510|     01|   Central|              0158| 38|       F|           W|               13| Prostitution/Allied|               M|653.22(A)PC|LOITER:INTENT:PRO...|MISDEMEANOR COMPL...|                 7TH|TOWNE            ...|34.0395|-118.2405|POINT (-118.2405 ...|                null|        null|             null|                null|\n",
      "|100208368|        RFC| 03/18/2010|2110|     02|   Rampart|              0275| 40|       F|           W|               24|Miscellaneous Oth...|               M|103.107.1BL|ESCORT WITHOUT PE...|MISDEMEANOR COMPL...|1900 W  OLYMPIC  ...|                null|34.0508|-118.2777|POINT (-118.2777 ...|                null|        null|             null|                null|\n",
      "|100218913|        RFC| 10/07/2010|1835|     02|   Rampart|              0217| 32|       F|           O|               24|Miscellaneous Oth...|               M|103.205.1BL|MASSAGE TECHNICIA...|MISDEMEANOR COMPL...|1900 W  TEMPLE   ...|                null|34.0727|-118.2637|POINT (-118.2637 ...|                null|        null|             null|                null|\n",
      "|100321755|        RFC| 09/11/2010|1840|     03| Southwest|              0359| 43|       M|           B|               24|Miscellaneous Oth...|               M|103.202BLAM|PARKING LOT W/O P...|MISDEMEANOR COMPL...|3800    FLOWER   ...|                null| 34.014|-118.2816|POINT (-118.2816 ...|                null|        null|             null|                null|\n",
      "|100321757|        RFC| 09/11/2010|1730|     03| Southwest|              0359| 36|       M|           B|               24|Miscellaneous Oth...|               M|103.202BLAM|PARKING LOT W/O P...|MISDEMEANOR COMPL...|3800    FLOWER   ...|                null| 34.014|-118.2816|POINT (-118.2816 ...|                null|        null|             null|                null|\n",
      "|100321798|        RFC| 09/11/2010|1750|     03| Southwest|              0359| 24|       M|           O|               24|Miscellaneous Oth...|               M|103.202BLAM|PARKING LOT W/O P...|MISDEMEANOR COMPL...|3800    FLOWER   ...|                null| 34.014|-118.2816|POINT (-118.2816 ...|                null|        null|             null|                null|\n",
      "|100321800|        RFC| 09/11/2010|1750|     03| Southwest|              0359| 19|       F|           H|               24|Miscellaneous Oth...|               M|103.202BLAM|PARKING LOT W/O P...|MISDEMEANOR COMPL...|3800    FLOWER   ...|                null| 34.014|-118.2816|POINT (-118.2816 ...|                null|        null|             null|                null|\n",
      "|100325586|        RFC| 11/06/2010|1920|     03| Southwest|              0377| 51|       M|           H|               24|Miscellaneous Oth...|               M|103.202BLAM|PARKING LOT W/O P...|MISDEMEANOR COMPL...|            BROWNING|             VERMONT|34.0145| -118.298|POINT (-118.298 3...|                null|        null|             null|                null|\n",
      "|100404077|        RFC| 01/03/2010|0015|     04|Hollenbeck|              0456| 43|       F|           H|               19|Disturbing the Peace|               M| 112.01LAMC|     NOISE ORDINANCE|MISDEMEANOR COMPL...|2400    FAIRMONT ...|                null|34.0499|-118.2009|POINT (-118.2009 ...|                null|        null|             null|                null|\n",
      "|100406558|        RFC| 02/26/2010|2040|     04|Hollenbeck|              0463| 22|       M|           H|               19|Disturbing the Peace|               M| 112.01LAMC|     NOISE ORDINANCE|MISDEMEANOR COMPL...|2000 E  4TH      ...|                null|34.0462|-118.2153|POINT (-118.2153 ...|                null|        null|             null|                null|\n",
      "|100409711|        RFC| 05/08/2010|2135|     04|Hollenbeck|              0412| 20|       M|           H|               18|          Drunkeness|               M| 41.27CLAMC|  DRINKING IN PUBLIC|MISDEMEANOR COMPL...|           AVENUE 33|            ARTESIAN|34.0838|-118.2166|POINT (-118.2166 ...|                null|        null|             null|                null|\n",
      "|100409797|        RFC| 05/07/2010|2125|     04|Hollenbeck|              0453| 27|       M|           H|               24|Miscellaneous Oth...|               M| 71.02BLAMC|OPER TAXI W/O FRA...|MISDEMEANOR COMPL...|              BAILEY|1ST              ...|34.0471|-118.2186|POINT (-118.2186 ...|                null|        null|             null|                null|\n",
      "|100409813|        RFC| 05/08/2010|0130|     04|Hollenbeck|              0499| 15|       M|           H|               24|Miscellaneous Oth...|               M|  45.03LAMC|   CURFEW - JUV ONLY|  COUNSELED/RELEASED|3500    UNION PAC...|                null|34.0166|-118.2028|POINT (-118.2028 ...|                null|        null|             null|                null|\n",
      "|100409814|        RFC| 05/08/2010|0100|     04|Hollenbeck|              0499| 14|       M|           H|               24|Miscellaneous Oth...|               M|  45.03LAMC|   CURFEW - JUV ONLY|  COUNSELED/RELEASED|1300    SPENCE   ...|                null|34.0188|-118.2028|POINT (-118.2028 ...|                null|        null|             null|                null|\n",
      "+---------+-----------+-----------+----+-------+----------+------------------+---+--------+------------+-----------------+--------------------+----------------+-----------+--------------------+--------------------+--------------------+--------------------+-------+---------+--------------------+--------------------+------------+-----------------+--------------------+\n",
      "only showing top 20 rows\n",
      "\n"
     ]
    }
   ],
   "source": [
    "df_pyspark.show()"
   ]
  },
  {
   "cell_type": "code",
   "execution_count": 11,
   "metadata": {},
   "outputs": [
    {
     "name": "stderr",
     "output_type": "stream",
     "text": [
      "                                                                                \r"
     ]
    },
    {
     "name": "stdout",
     "output_type": "stream",
     "text": [
      "+---------+-----------+-----------+----+-------+----------+------------------+---+--------+------------+-----------------+------------------------+----------------+-----------+--------------------+-----------------------+--------------------+--------------------+-------+---------+--------------------+--------------------+------------+-----------------+---------------------+\n",
      "|Report ID|Report Type|Arrest Date|Time|Area ID| Area Name|Reporting District|Age|Sex Code|Descent Code|Charge Group Code|Charge Group Description|Arrest Type Code|     Charge|  Charge Description|Disposition Description|             Address|        Cross Street|    LAT|      LON|            Location|        Booking Date|Booking Time| Booking Location|Booking Location Code|\n",
      "+---------+-----------+-----------+----+-------+----------+------------------+---+--------+------------+-----------------+------------------------+----------------+-----------+--------------------+-----------------------+--------------------+--------------------+-------+---------+--------------------+--------------------+------------+-----------------+---------------------+\n",
      "|  2377805|    BOOKING| 06/22/2010|1845|     16|  Foothill|              1664| 46|       F|           W|                6|                 Larceny|               F|   487(A)PC|GRAND THEFT MONEY...|   MISDEMEANOR COMPL...|           PENDLETON|            GLENOAKS|34.2375|-118.3745|POINT (-118.3745 ...|06/22/2010 12:00:...|        2108|VALLEY - JAIL DIV|                 4279|\n",
      "|121920046|        RFC| 09/28/2012| 930|     19|   Mission|              1998| 60|       M|           H|             null|                    null|               M| 25620(A)BP|                null|   MISDEMEANOR COMPL...|7600    WOODMAN  ...|                null|34.2111|-118.4309|POINT (-118.4309 ...|                null|        null|             null|                 null|\n",
      "|101820989|        RFC| 10/20/2010| 700|     18| Southeast|              1829| 14|       M|           H|                8|          Other Assaults|               M|      242PC|             BATTERY|                   null|7200    QUAIL    ...|                null|34.1025|-118.2091|POINT (-118.2091 ...|                null|        null|             null|                 null|\n",
      "| 90712341|        RFC| 03/10/2011| 940|      7|  Wilshire|               776| 45|       M|           B|               18|              Drunkeness|               M| 41.27CLAMC|  DRINKING IN PUBLIC|   MISDEMEANOR COMPL...|4500 W  WASHINGTO...|                null|34.0399|-118.3375|POINT (-118.3375 ...|                null|        null|             null|                 null|\n",
      "|121909585|        RFC| 04/01/2012|1715|     19|   Mission|              1993| 37|       M|           H|             null|                    null|               M| 25620(A)BP|                null|   MISDEMEANOR COMPL...|8100    SEPULVEDA...|                null|34.2208|-118.4662|POINT (-118.4662 ...|                null|        null|             null|                 null|\n",
      "|100109543|        RFC| 04/14/2010|1510|      1|   Central|               158| 38|       F|           W|               13|     Prostitution/Allied|               M|653.22(A)PC|LOITER:INTENT:PRO...|   MISDEMEANOR COMPL...|                 7TH|TOWNE            ...|34.0395|-118.2405|POINT (-118.2405 ...|                null|        null|             null|                 null|\n",
      "|100208368|        RFC| 03/18/2010|2110|      2|   Rampart|               275| 40|       F|           W|               24|    Miscellaneous Oth...|               M|103.107.1BL|ESCORT WITHOUT PE...|   MISDEMEANOR COMPL...|1900 W  OLYMPIC  ...|                null|34.0508|-118.2777|POINT (-118.2777 ...|                null|        null|             null|                 null|\n",
      "|100218913|        RFC| 10/07/2010|1835|      2|   Rampart|               217| 32|       F|           O|               24|    Miscellaneous Oth...|               M|103.205.1BL|MASSAGE TECHNICIA...|   MISDEMEANOR COMPL...|1900 W  TEMPLE   ...|                null|34.0727|-118.2637|POINT (-118.2637 ...|                null|        null|             null|                 null|\n",
      "|100321755|        RFC| 09/11/2010|1840|      3| Southwest|               359| 43|       M|           B|               24|    Miscellaneous Oth...|               M|103.202BLAM|PARKING LOT W/O P...|   MISDEMEANOR COMPL...|3800    FLOWER   ...|                null| 34.014|-118.2816|POINT (-118.2816 ...|                null|        null|             null|                 null|\n",
      "|100321757|        RFC| 09/11/2010|1730|      3| Southwest|               359| 36|       M|           B|               24|    Miscellaneous Oth...|               M|103.202BLAM|PARKING LOT W/O P...|   MISDEMEANOR COMPL...|3800    FLOWER   ...|                null| 34.014|-118.2816|POINT (-118.2816 ...|                null|        null|             null|                 null|\n",
      "|100321798|        RFC| 09/11/2010|1750|      3| Southwest|               359| 24|       M|           O|               24|    Miscellaneous Oth...|               M|103.202BLAM|PARKING LOT W/O P...|   MISDEMEANOR COMPL...|3800    FLOWER   ...|                null| 34.014|-118.2816|POINT (-118.2816 ...|                null|        null|             null|                 null|\n",
      "|100321800|        RFC| 09/11/2010|1750|      3| Southwest|               359| 19|       F|           H|               24|    Miscellaneous Oth...|               M|103.202BLAM|PARKING LOT W/O P...|   MISDEMEANOR COMPL...|3800    FLOWER   ...|                null| 34.014|-118.2816|POINT (-118.2816 ...|                null|        null|             null|                 null|\n",
      "|100325586|        RFC| 11/06/2010|1920|      3| Southwest|               377| 51|       M|           H|               24|    Miscellaneous Oth...|               M|103.202BLAM|PARKING LOT W/O P...|   MISDEMEANOR COMPL...|            BROWNING|             VERMONT|34.0145| -118.298|POINT (-118.298 3...|                null|        null|             null|                 null|\n",
      "|100404077|        RFC| 01/03/2010|  15|      4|Hollenbeck|               456| 43|       F|           H|               19|    Disturbing the Peace|               M| 112.01LAMC|     NOISE ORDINANCE|   MISDEMEANOR COMPL...|2400    FAIRMONT ...|                null|34.0499|-118.2009|POINT (-118.2009 ...|                null|        null|             null|                 null|\n",
      "|100406558|        RFC| 02/26/2010|2040|      4|Hollenbeck|               463| 22|       M|           H|               19|    Disturbing the Peace|               M| 112.01LAMC|     NOISE ORDINANCE|   MISDEMEANOR COMPL...|2000 E  4TH      ...|                null|34.0462|-118.2153|POINT (-118.2153 ...|                null|        null|             null|                 null|\n",
      "|100409711|        RFC| 05/08/2010|2135|      4|Hollenbeck|               412| 20|       M|           H|               18|              Drunkeness|               M| 41.27CLAMC|  DRINKING IN PUBLIC|   MISDEMEANOR COMPL...|           AVENUE 33|            ARTESIAN|34.0838|-118.2166|POINT (-118.2166 ...|                null|        null|             null|                 null|\n",
      "|100409797|        RFC| 05/07/2010|2125|      4|Hollenbeck|               453| 27|       M|           H|               24|    Miscellaneous Oth...|               M| 71.02BLAMC|OPER TAXI W/O FRA...|   MISDEMEANOR COMPL...|              BAILEY|1ST              ...|34.0471|-118.2186|POINT (-118.2186 ...|                null|        null|             null|                 null|\n",
      "|100409813|        RFC| 05/08/2010| 130|      4|Hollenbeck|               499| 15|       M|           H|               24|    Miscellaneous Oth...|               M|  45.03LAMC|   CURFEW - JUV ONLY|     COUNSELED/RELEASED|3500    UNION PAC...|                null|34.0166|-118.2028|POINT (-118.2028 ...|                null|        null|             null|                 null|\n",
      "|100409814|        RFC| 05/08/2010| 100|      4|Hollenbeck|               499| 14|       M|           H|               24|    Miscellaneous Oth...|               M|  45.03LAMC|   CURFEW - JUV ONLY|     COUNSELED/RELEASED|1300    SPENCE   ...|                null|34.0188|-118.2028|POINT (-118.2028 ...|                null|        null|             null|                 null|\n",
      "|121920272|        RFC| 09/15/2012|  40|     19|   Mission|              1913| 34|       M|           H|             null|                    null|               M|112.01BLAMC|                null|   MISDEMEANOR COMPL...|13300    DE FOE  ...|                null|34.3119|-118.4596|POINT (-118.4596 ...|                null|        null|             null|                 null|\n",
      "+---------+-----------+-----------+----+-------+----------+------------------+---+--------+------------+-----------------+------------------------+----------------+-----------+--------------------+-----------------------+--------------------+--------------------+-------+---------+--------------------+--------------------+------------+-----------------+---------------------+\n",
      "only showing top 20 rows\n",
      "\n"
     ]
    }
   ],
   "source": [
    "df_pyspark = spark.read.csv('Arrest_Data.csv',header='True',inferSchema=True)\n",
    "df_pyspark.show()"
   ]
  },
  {
   "cell_type": "code",
   "execution_count": 12,
   "metadata": {},
   "outputs": [],
   "source": [
    "df_pyspark= df_pyspark.withColumnRenamed('Sex Code','Sex').withColumnRenamed('Arrest Type Code','Arrest_Type').withColumnRenamed('Report Type','Report_Type').withColumnRenamed('Arrest Date','Arrest_Date').withColumnRenamed('Area ID','Area_ID').withColumnRenamed('Area Name','Area_Name').withColumnRenamed('Reporting District','Reporting_District').withColumnRenamed('Descent Code','Descent_Code').withColumnRenamed('Arrest Type Code','Arrest_Type').withColumnRenamed('Charge Group Code','Charge_Group_Code').withColumnRenamed('Charge Group Description','Charge_Group_Description').withColumnRenamed('Charge Description','Charge_Description').withColumnRenamed('Cross Street','Cross_Street').withColumnRenamed('Desposition Description','Desposition_Description').withColumnRenamed('Booking Date','Booking_Date').withColumnRenamed('Booking Time','Booking_Time').withColumnRenamed('Booking Location','Booking_Location').withColumnRenamed('Booking Location Code','Booking_Location_Code').withColumnRenamed('Disposition Description','Desposition_Description')"
   ]
  },
  {
   "cell_type": "code",
   "execution_count": 13,
   "metadata": {},
   "outputs": [
    {
     "data": {
      "text/plain": [
       "[('Report ID', 'int'),\n",
       " ('Report_Type', 'string'),\n",
       " ('Arrest_Date', 'string'),\n",
       " ('Time', 'int'),\n",
       " ('Area_ID', 'int'),\n",
       " ('Area_Name', 'string'),\n",
       " ('Reporting_District', 'int'),\n",
       " ('Age', 'int'),\n",
       " ('Sex', 'string'),\n",
       " ('Descent_Code', 'string'),\n",
       " ('Charge_Group_Code', 'int'),\n",
       " ('Charge_Group_Description', 'string'),\n",
       " ('Arrest_Type', 'string'),\n",
       " ('Charge', 'string'),\n",
       " ('Charge_Description', 'string'),\n",
       " ('Desposition_Description', 'string'),\n",
       " ('Address', 'string'),\n",
       " ('Cross_Street', 'string'),\n",
       " ('LAT', 'double'),\n",
       " ('LON', 'double'),\n",
       " ('Location', 'string'),\n",
       " ('Booking_Date', 'string'),\n",
       " ('Booking_Time', 'int'),\n",
       " ('Booking_Location', 'string'),\n",
       " ('Booking_Location_Code', 'int')]"
      ]
     },
     "execution_count": 13,
     "metadata": {},
     "output_type": "execute_result"
    }
   ],
   "source": [
    "df_pyspark.dtypes"
   ]
  },
  {
   "cell_type": "code",
   "execution_count": 14,
   "metadata": {},
   "outputs": [],
   "source": [
    "df_pyspark.createOrReplaceTempView(\"df_pyspark\")"
   ]
  },
  {
   "cell_type": "code",
   "execution_count": 15,
   "metadata": {},
   "outputs": [
    {
     "data": {
      "text/plain": [
       "dict"
      ]
     },
     "execution_count": 15,
     "metadata": {},
     "output_type": "execute_result"
    }
   ],
   "source": [
    "WordsDict= { 'F':'Felony','I':'Infraction','M':'Misdemeanor','D':'Dependent','O':'Other'}\n",
    "\n",
    "type(WordsDict)"
   ]
  },
  {
   "cell_type": "code",
   "execution_count": 16,
   "metadata": {},
   "outputs": [],
   "source": [
    "from pyspark.sql import functions as f\n",
    "from pyspark.sql.functions import year\n",
    "from pyspark.sql.functions import *"
   ]
  },
  {
   "cell_type": "code",
   "execution_count": 17,
   "metadata": {},
   "outputs": [
    {
     "name": "stderr",
     "output_type": "stream",
     "text": [
      "[Stage 5:>                                                          (0 + 1) / 1]\r"
     ]
    },
    {
     "name": "stdout",
     "output_type": "stream",
     "text": [
      "+---------+-----------+-----------+----+-------+----------+------------------+---+---+------------+-----------------+------------------------------+-----------+---------------------------------+---------------------------+----------------------------------------+-------------------------------+-------+---------+-------------------------+----------------------+------------+-----------------+---------------------+-----------+\n",
      "|Report ID|Report_Type|Arrest_Date|Time|Area_ID|Area_Name |Reporting_District|Age|Sex|Descent_Code|Charge_Group_Code|Charge_Group_Description      |Charge     |Charge_Description               |Desposition_Description    |Address                                 |Cross_Street                   |LAT    |LON      |Location                 |Booking_Date          |Booking_Time|Booking_Location |Booking_Location_Code|ArrestType |\n",
      "+---------+-----------+-----------+----+-------+----------+------------------+---+---+------------+-----------------+------------------------------+-----------+---------------------------------+---------------------------+----------------------------------------+-------------------------------+-------+---------+-------------------------+----------------------+------------+-----------------+---------------------+-----------+\n",
      "|2377805  |BOOKING    |06/22/2010 |1845|16     |Foothill  |1664              |46 |F  |W           |6                |Larceny                       |487(A)PC   |GRAND THEFT MONEY/PROPERTY > $400|MISDEMEANOR COMPLAINT FILED|PENDLETON                               |GLENOAKS                       |34.2375|-118.3745|POINT (-118.3745 34.2375)|06/22/2010 12:00:00 AM|2108        |VALLEY - JAIL DIV|4279                 |Felony     |\n",
      "|121920046|RFC        |09/28/2012 |930 |19     |Mission   |1998              |60 |M  |H           |null             |null                          |25620(A)BP |null                             |MISDEMEANOR COMPLAINT FILED|7600    WOODMAN                      AV |null                           |34.2111|-118.4309|POINT (-118.4309 34.2111)|null                  |null        |null             |null                 |Misdemeanor|\n",
      "|101820989|RFC        |10/20/2010 |700 |18     |Southeast |1829              |14 |M  |H           |8                |Other Assaults                |242PC      |BATTERY                          |null                       |7200    QUAIL                        DR |null                           |34.1025|-118.2091|POINT (-118.2091 34.1025)|null                  |null        |null             |null                 |Misdemeanor|\n",
      "|90712341 |RFC        |03/10/2011 |940 |7      |Wilshire  |776               |45 |M  |B           |18               |Drunkeness                    |41.27CLAMC |DRINKING IN PUBLIC               |MISDEMEANOR COMPLAINT FILED|4500 W  WASHINGTON                   BL |null                           |34.0399|-118.3375|POINT (-118.3375 34.0399)|null                  |null        |null             |null                 |Misdemeanor|\n",
      "|121909585|RFC        |04/01/2012 |1715|19     |Mission   |1993              |37 |M  |H           |null             |null                          |25620(A)BP |null                             |MISDEMEANOR COMPLAINT FILED|8100    SEPULVEDA                    PL |null                           |34.2208|-118.4662|POINT (-118.4662 34.2208)|null                  |null        |null             |null                 |Misdemeanor|\n",
      "|100109543|RFC        |04/14/2010 |1510|1      |Central   |158               |38 |F  |W           |13               |Prostitution/Allied           |653.22(A)PC|LOITER:INTENT:PROSTITUTION       |MISDEMEANOR COMPLAINT FILED|7TH                                     |TOWNE                        AV|34.0395|-118.2405|POINT (-118.2405 34.0395)|null                  |null        |null             |null                 |Misdemeanor|\n",
      "|100208368|RFC        |03/18/2010 |2110|2      |Rampart   |275               |40 |F  |W           |24               |Miscellaneous Other Violations|103.107.1BL|ESCORT WITHOUT PERMIT            |MISDEMEANOR COMPLAINT FILED|1900 W  OLYMPIC                      BL |null                           |34.0508|-118.2777|POINT (-118.2777 34.0508)|null                  |null        |null             |null                 |Misdemeanor|\n",
      "|100218913|RFC        |10/07/2010 |1835|2      |Rampart   |217               |32 |F  |O           |24               |Miscellaneous Other Violations|103.205.1BL|MASSAGE TECHNICIAN W/O PERMIT    |MISDEMEANOR COMPLAINT FILED|1900 W  TEMPLE                       ST |null                           |34.0727|-118.2637|POINT (-118.2637 34.0727)|null                  |null        |null             |null                 |Misdemeanor|\n",
      "|100321755|RFC        |09/11/2010 |1840|3      |Southwest |359               |43 |M  |B           |24               |Miscellaneous Other Violations|103.202BLAM|PARKING LOT W/O PERMIT           |MISDEMEANOR COMPLAINT FILED|3800    FLOWER                       DR |null                           |34.014 |-118.2816|POINT (-118.2816 34.014) |null                  |null        |null             |null                 |Misdemeanor|\n",
      "|100321757|RFC        |09/11/2010 |1730|3      |Southwest |359               |36 |M  |B           |24               |Miscellaneous Other Violations|103.202BLAM|PARKING LOT W/O PERMIT           |MISDEMEANOR COMPLAINT FILED|3800    FLOWER                       DR |null                           |34.014 |-118.2816|POINT (-118.2816 34.014) |null                  |null        |null             |null                 |Misdemeanor|\n",
      "|100321798|RFC        |09/11/2010 |1750|3      |Southwest |359               |24 |M  |O           |24               |Miscellaneous Other Violations|103.202BLAM|PARKING LOT W/O PERMIT           |MISDEMEANOR COMPLAINT FILED|3800    FLOWER                       DR |null                           |34.014 |-118.2816|POINT (-118.2816 34.014) |null                  |null        |null             |null                 |Misdemeanor|\n",
      "|100321800|RFC        |09/11/2010 |1750|3      |Southwest |359               |19 |F  |H           |24               |Miscellaneous Other Violations|103.202BLAM|PARKING LOT W/O PERMIT           |MISDEMEANOR COMPLAINT FILED|3800    FLOWER                       DR |null                           |34.014 |-118.2816|POINT (-118.2816 34.014) |null                  |null        |null             |null                 |Misdemeanor|\n",
      "|100325586|RFC        |11/06/2010 |1920|3      |Southwest |377               |51 |M  |H           |24               |Miscellaneous Other Violations|103.202BLAM|PARKING LOT W/O PERMIT           |MISDEMEANOR COMPLAINT FILED|BROWNING                                |VERMONT                        |34.0145|-118.298 |POINT (-118.298 34.0145) |null                  |null        |null             |null                 |Misdemeanor|\n",
      "|100404077|RFC        |01/03/2010 |15  |4      |Hollenbeck|456               |43 |F  |H           |19               |Disturbing the Peace          |112.01LAMC |NOISE ORDINANCE                  |MISDEMEANOR COMPLAINT FILED|2400    FAIRMONT                     AV |null                           |34.0499|-118.2009|POINT (-118.2009 34.0499)|null                  |null        |null             |null                 |Misdemeanor|\n",
      "|100406558|RFC        |02/26/2010 |2040|4      |Hollenbeck|463               |22 |M  |H           |19               |Disturbing the Peace          |112.01LAMC |NOISE ORDINANCE                  |MISDEMEANOR COMPLAINT FILED|2000 E  4TH                          ST |null                           |34.0462|-118.2153|POINT (-118.2153 34.0462)|null                  |null        |null             |null                 |Misdemeanor|\n",
      "|100409711|RFC        |05/08/2010 |2135|4      |Hollenbeck|412               |20 |M  |H           |18               |Drunkeness                    |41.27CLAMC |DRINKING IN PUBLIC               |MISDEMEANOR COMPLAINT FILED|AVENUE 33                               |ARTESIAN                       |34.0838|-118.2166|POINT (-118.2166 34.0838)|null                  |null        |null             |null                 |Misdemeanor|\n",
      "|100409797|RFC        |05/07/2010 |2125|4      |Hollenbeck|453               |27 |M  |H           |24               |Miscellaneous Other Violations|71.02BLAMC |OPER TAXI W/O FRANCHISE          |MISDEMEANOR COMPLAINT FILED|BAILEY                                  |1ST                          ST|34.0471|-118.2186|POINT (-118.2186 34.0471)|null                  |null        |null             |null                 |Misdemeanor|\n",
      "|100409813|RFC        |05/08/2010 |130 |4      |Hollenbeck|499               |15 |M  |H           |24               |Miscellaneous Other Violations|45.03LAMC  |CURFEW - JUV ONLY                |COUNSELED/RELEASED         |3500    UNION PACIFIC                AV |null                           |34.0166|-118.2028|POINT (-118.2028 34.0166)|null                  |null        |null             |null                 |Misdemeanor|\n",
      "|100409814|RFC        |05/08/2010 |100 |4      |Hollenbeck|499               |14 |M  |H           |24               |Miscellaneous Other Violations|45.03LAMC  |CURFEW - JUV ONLY                |COUNSELED/RELEASED         |1300    SPENCE                       ST |null                           |34.0188|-118.2028|POINT (-118.2028 34.0188)|null                  |null        |null             |null                 |Misdemeanor|\n",
      "|121920272|RFC        |09/15/2012 |40  |19     |Mission   |1913              |34 |M  |H           |null             |null                          |112.01BLAMC|null                             |MISDEMEANOR COMPLAINT FILED|13300    DE FOE                       AV|null                           |34.3119|-118.4596|POINT (-118.4596 34.3119)|null                  |null        |null             |null                 |Misdemeanor|\n",
      "+---------+-----------+-----------+----+-------+----------+------------------+---+---+------------+-----------------+------------------------------+-----------+---------------------------------+---------------------------+----------------------------------------+-------------------------------+-------+---------+-------------------------+----------------------+------------+-----------------+---------------------+-----------+\n",
      "only showing top 20 rows\n",
      "\n"
     ]
    },
    {
     "name": "stderr",
     "output_type": "stream",
     "text": [
      "                                                                                \r"
     ]
    }
   ],
   "source": [
    "def replace_words(Arrest_Type, WordsDict):\n",
    "  \"\"\"_A function to replace the letter with their corresponding meaning_\n",
    "\n",
    "  Args:\n",
    "      Arrest_Type (_string_): _A code to indicate the type of charge the individual was arrested _\n",
    "      \n",
    "      WordsDict (_dictionary_): _Dictionaries are used to store data values in key:value pairs . Here we have stored the values as follows \n",
    "      D- Dependent F - Felony ,I - Infraction ,  M - Misdemeanor and O - Other_\n",
    "\n",
    "  Returns:\n",
    "      _String_: _This function returns the type of charge by replacing the arrest type code with their corresponding meanings._\n",
    "  \"\"\"\n",
    "  for key, value in WordsDict.items():\n",
    "    Arrest_Type = Arrest_Type.replace(key,value)\n",
    "  return Arrest_Type\n",
    "\n",
    "\"\"\"User Defined Function : We need to assign user defined function so that the function can be used for our dataframes\"\"\"\n",
    "replace_udf = f.udf(lambda Arrest_Type:replace_words(Arrest_Type,WordsDict))\n",
    "df_pyspark = df_pyspark.withColumn(\"ArrestType\",replace_udf(f.col(\"Arrest_Type\"))).drop(\"Arrest_Type\")\n",
    "\n",
    "df_pyspark.show(truncate=False)\n",
    "\n"
   ]
  },
  {
   "cell_type": "code",
   "execution_count": 18,
   "metadata": {},
   "outputs": [],
   "source": [
    "WordsDict1={ 'A':'Other Asian', 'B': 'Black', 'C':'Chinese' ,'D':'Cambodian', 'F':'Filipino','G':'Guamanian', 'H':'Hispanic/Latin/Mexican','I' :'American Indian/Alaskan Native', 'J':'Japanese' ,'K':'Korean' ,'L':'Laotian' ,'O':'Other' ,'P':'Pacific Islander' ,'S':'Samoan' ,'U':'Hawaiian','V':'Vietnamese','W':'White','X':'Unknown', 'Z':'Asian Indian'}"
   ]
  },
  {
   "cell_type": "code",
   "execution_count": 19,
   "metadata": {},
   "outputs": [
    {
     "name": "stdout",
     "output_type": "stream",
     "text": [
      "+---------+-----------+-----------+----+-------+----------+------------------+---+---+-----------------+------------------------------+-----------+---------------------------------+---------------------------+----------------------------------------+-------------------------------+-------+---------+-------------------------+----------------------+------------+-----------------+---------------------+-----------+----------------------------+\n",
      "|Report ID|Report_Type|Arrest_Date|Time|Area_ID|Area_Name |Reporting_District|Age|Sex|Charge_Group_Code|Charge_Group_Description      |Charge     |Charge_Description               |Desposition_Description    |Address                                 |Cross_Street                   |LAT    |LON      |Location                 |Booking_Date          |Booking_Time|Booking_Location |Booking_Location_Code|ArrestType |DescentCode                 |\n",
      "+---------+-----------+-----------+----+-------+----------+------------------+---+---+-----------------+------------------------------+-----------+---------------------------------+---------------------------+----------------------------------------+-------------------------------+-------+---------+-------------------------+----------------------+------------+-----------------+---------------------+-----------+----------------------------+\n",
      "|2377805  |BOOKING    |06/22/2010 |1845|16     |Foothill  |1664              |46 |F  |6                |Larceny                       |487(A)PC   |GRAND THEFT MONEY/PROPERTY > $400|MISDEMEANOR COMPLAINT FILED|PENDLETON                               |GLENOAKS                       |34.2375|-118.3745|POINT (-118.3745 34.2375)|06/22/2010 12:00:00 AM|2108        |VALLEY - JAIL DIV|4279                 |Felony     |White                       |\n",
      "|121920046|RFC        |09/28/2012 |930 |19     |Mission   |1998              |60 |M  |null             |null                          |25620(A)BP |null                             |MISDEMEANOR COMPLAINT FILED|7600    WOODMAN                      AV |null                           |34.2111|-118.4309|POINT (-118.4309 34.2111)|null                  |null        |null             |null                 |Misdemeanor|Hispanic/Laotianatin/Mexican|\n",
      "|101820989|RFC        |10/20/2010 |700 |18     |Southeast |1829              |14 |M  |8                |Other Assaults                |242PC      |BATTERY                          |null                       |7200    QUAIL                        DR |null                           |34.1025|-118.2091|POINT (-118.2091 34.1025)|null                  |null        |null             |null                 |Misdemeanor|Hispanic/Laotianatin/Mexican|\n",
      "|90712341 |RFC        |03/10/2011 |940 |7      |Wilshire  |776               |45 |M  |18               |Drunkeness                    |41.27CLAMC |DRINKING IN PUBLIC               |MISDEMEANOR COMPLAINT FILED|4500 W  WASHINGTON                   BL |null                           |34.0399|-118.3375|POINT (-118.3375 34.0399)|null                  |null        |null             |null                 |Misdemeanor|Black                       |\n",
      "|121909585|RFC        |04/01/2012 |1715|19     |Mission   |1993              |37 |M  |null             |null                          |25620(A)BP |null                             |MISDEMEANOR COMPLAINT FILED|8100    SEPULVEDA                    PL |null                           |34.2208|-118.4662|POINT (-118.4662 34.2208)|null                  |null        |null             |null                 |Misdemeanor|Hispanic/Laotianatin/Mexican|\n",
      "|100109543|RFC        |04/14/2010 |1510|1      |Central   |158               |38 |F  |13               |Prostitution/Allied           |653.22(A)PC|LOITER:INTENT:PROSTITUTION       |MISDEMEANOR COMPLAINT FILED|7TH                                     |TOWNE                        AV|34.0395|-118.2405|POINT (-118.2405 34.0395)|null                  |null        |null             |null                 |Misdemeanor|White                       |\n",
      "|100208368|RFC        |03/18/2010 |2110|2      |Rampart   |275               |40 |F  |24               |Miscellaneous Other Violations|103.107.1BL|ESCORT WITHOUT PERMIT            |MISDEMEANOR COMPLAINT FILED|1900 W  OLYMPIC                      BL |null                           |34.0508|-118.2777|POINT (-118.2777 34.0508)|null                  |null        |null             |null                 |Misdemeanor|White                       |\n",
      "|100218913|RFC        |10/07/2010 |1835|2      |Rampart   |217               |32 |F  |24               |Miscellaneous Other Violations|103.205.1BL|MASSAGE TECHNICIAN W/O PERMIT    |MISDEMEANOR COMPLAINT FILED|1900 W  TEMPLE                       ST |null                           |34.0727|-118.2637|POINT (-118.2637 34.0727)|null                  |null        |null             |null                 |Misdemeanor|Other                       |\n",
      "|100321755|RFC        |09/11/2010 |1840|3      |Southwest |359               |43 |M  |24               |Miscellaneous Other Violations|103.202BLAM|PARKING LOT W/O PERMIT           |MISDEMEANOR COMPLAINT FILED|3800    FLOWER                       DR |null                           |34.014 |-118.2816|POINT (-118.2816 34.014) |null                  |null        |null             |null                 |Misdemeanor|Black                       |\n",
      "|100321757|RFC        |09/11/2010 |1730|3      |Southwest |359               |36 |M  |24               |Miscellaneous Other Violations|103.202BLAM|PARKING LOT W/O PERMIT           |MISDEMEANOR COMPLAINT FILED|3800    FLOWER                       DR |null                           |34.014 |-118.2816|POINT (-118.2816 34.014) |null                  |null        |null             |null                 |Misdemeanor|Black                       |\n",
      "|100321798|RFC        |09/11/2010 |1750|3      |Southwest |359               |24 |M  |24               |Miscellaneous Other Violations|103.202BLAM|PARKING LOT W/O PERMIT           |MISDEMEANOR COMPLAINT FILED|3800    FLOWER                       DR |null                           |34.014 |-118.2816|POINT (-118.2816 34.014) |null                  |null        |null             |null                 |Misdemeanor|Other                       |\n",
      "|100321800|RFC        |09/11/2010 |1750|3      |Southwest |359               |19 |F  |24               |Miscellaneous Other Violations|103.202BLAM|PARKING LOT W/O PERMIT           |MISDEMEANOR COMPLAINT FILED|3800    FLOWER                       DR |null                           |34.014 |-118.2816|POINT (-118.2816 34.014) |null                  |null        |null             |null                 |Misdemeanor|Hispanic/Laotianatin/Mexican|\n",
      "|100325586|RFC        |11/06/2010 |1920|3      |Southwest |377               |51 |M  |24               |Miscellaneous Other Violations|103.202BLAM|PARKING LOT W/O PERMIT           |MISDEMEANOR COMPLAINT FILED|BROWNING                                |VERMONT                        |34.0145|-118.298 |POINT (-118.298 34.0145) |null                  |null        |null             |null                 |Misdemeanor|Hispanic/Laotianatin/Mexican|\n",
      "|100404077|RFC        |01/03/2010 |15  |4      |Hollenbeck|456               |43 |F  |19               |Disturbing the Peace          |112.01LAMC |NOISE ORDINANCE                  |MISDEMEANOR COMPLAINT FILED|2400    FAIRMONT                     AV |null                           |34.0499|-118.2009|POINT (-118.2009 34.0499)|null                  |null        |null             |null                 |Misdemeanor|Hispanic/Laotianatin/Mexican|\n",
      "|100406558|RFC        |02/26/2010 |2040|4      |Hollenbeck|463               |22 |M  |19               |Disturbing the Peace          |112.01LAMC |NOISE ORDINANCE                  |MISDEMEANOR COMPLAINT FILED|2000 E  4TH                          ST |null                           |34.0462|-118.2153|POINT (-118.2153 34.0462)|null                  |null        |null             |null                 |Misdemeanor|Hispanic/Laotianatin/Mexican|\n",
      "|100409711|RFC        |05/08/2010 |2135|4      |Hollenbeck|412               |20 |M  |18               |Drunkeness                    |41.27CLAMC |DRINKING IN PUBLIC               |MISDEMEANOR COMPLAINT FILED|AVENUE 33                               |ARTESIAN                       |34.0838|-118.2166|POINT (-118.2166 34.0838)|null                  |null        |null             |null                 |Misdemeanor|Hispanic/Laotianatin/Mexican|\n",
      "|100409797|RFC        |05/07/2010 |2125|4      |Hollenbeck|453               |27 |M  |24               |Miscellaneous Other Violations|71.02BLAMC |OPER TAXI W/O FRANCHISE          |MISDEMEANOR COMPLAINT FILED|BAILEY                                  |1ST                          ST|34.0471|-118.2186|POINT (-118.2186 34.0471)|null                  |null        |null             |null                 |Misdemeanor|Hispanic/Laotianatin/Mexican|\n",
      "|100409813|RFC        |05/08/2010 |130 |4      |Hollenbeck|499               |15 |M  |24               |Miscellaneous Other Violations|45.03LAMC  |CURFEW - JUV ONLY                |COUNSELED/RELEASED         |3500    UNION PACIFIC                AV |null                           |34.0166|-118.2028|POINT (-118.2028 34.0166)|null                  |null        |null             |null                 |Misdemeanor|Hispanic/Laotianatin/Mexican|\n",
      "|100409814|RFC        |05/08/2010 |100 |4      |Hollenbeck|499               |14 |M  |24               |Miscellaneous Other Violations|45.03LAMC  |CURFEW - JUV ONLY                |COUNSELED/RELEASED         |1300    SPENCE                       ST |null                           |34.0188|-118.2028|POINT (-118.2028 34.0188)|null                  |null        |null             |null                 |Misdemeanor|Hispanic/Laotianatin/Mexican|\n",
      "|121920272|RFC        |09/15/2012 |40  |19     |Mission   |1913              |34 |M  |null             |null                          |112.01BLAMC|null                             |MISDEMEANOR COMPLAINT FILED|13300    DE FOE                       AV|null                           |34.3119|-118.4596|POINT (-118.4596 34.3119)|null                  |null        |null             |null                 |Misdemeanor|Hispanic/Laotianatin/Mexican|\n",
      "+---------+-----------+-----------+----+-------+----------+------------------+---+---+-----------------+------------------------------+-----------+---------------------------------+---------------------------+----------------------------------------+-------------------------------+-------+---------+-------------------------+----------------------+------------+-----------------+---------------------+-----------+----------------------------+\n",
      "only showing top 20 rows\n",
      "\n"
     ]
    }
   ],
   "source": [
    "def replace_words(Descent_Code, WordsDict1):\n",
    "  \"\"\"_summary_\n",
    "\n",
    "  Args:\n",
    "      Descent_Code (_string_): _Code depicting the origin or background of a person in terms of family or nationality_\n",
    "\n",
    "      WordsDict1 (_dictionary_): _Dictionaries are used to store data values in key:value pairs . Here we have stored the values as follows :\n",
    "      A - Other Asian,B - Black,C - Chinese,D - Cambodian,F - Filipino,G - Guamanian, H - Hispanic/Latin/Mexican, I - American Indian/Alaskan\n",
    "      Native,J - Japanese,K - Korean,L - Laotian,O - Other,P - Pacific Islander,S - Samoan,U - Hawaiian,V - Vietnamese,W - White,X - Unknown,\n",
    "      Z - Asian Indian_\n",
    "\n",
    "  Returns:\n",
    "      _String_: _This function returns the nationality of a person by replacing the code with their corresponding meaning_\n",
    "  \"\"\"\n",
    "  for key, value in WordsDict1.items():\n",
    "    Descent_Code = Descent_Code.replace(key,value)\n",
    "  return Descent_Code\n",
    "\n",
    "\"\"\"User Defined Function : We need to assign user defined function so that the function can be used for our dataframes\"\"\"\n",
    "replace_udf1 = f.udf(lambda Descent_Code:replace_words(Descent_Code,WordsDict1))\n",
    "df_pyspark = df_pyspark.withColumn(\"DescentCode\",replace_udf1(f.col(\"Descent_Code\"))).drop(\"Descent_Code\")\n",
    "\n",
    "df_pyspark.show(truncate=False)"
   ]
  },
  {
   "cell_type": "code",
   "execution_count": 20,
   "metadata": {},
   "outputs": [],
   "source": [
    "WordsDict2={ 'F':'Female', 'M': 'Male'}"
   ]
  },
  {
   "cell_type": "code",
   "execution_count": 21,
   "metadata": {},
   "outputs": [
    {
     "name": "stdout",
     "output_type": "stream",
     "text": [
      "+---------+-----------+-----------+----+-------+----------+------------------+---+-----------------+------------------------------+-----------+---------------------------------+---------------------------+----------------------------------------+-------------------------------+-------+---------+-------------------------+----------------------+------------+-----------------+---------------------+-----------+----------------------------+--------+\n",
      "|Report ID|Report_Type|Arrest_Date|Time|Area_ID|Area_Name |Reporting_District|Age|Charge_Group_Code|Charge_Group_Description      |Charge     |Charge_Description               |Desposition_Description    |Address                                 |Cross_Street                   |LAT    |LON      |Location                 |Booking_Date          |Booking_Time|Booking_Location |Booking_Location_Code|ArrestType |DescentCode                 |Sex_Code|\n",
      "+---------+-----------+-----------+----+-------+----------+------------------+---+-----------------+------------------------------+-----------+---------------------------------+---------------------------+----------------------------------------+-------------------------------+-------+---------+-------------------------+----------------------+------------+-----------------+---------------------+-----------+----------------------------+--------+\n",
      "|2377805  |BOOKING    |06/22/2010 |1845|16     |Foothill  |1664              |46 |6                |Larceny                       |487(A)PC   |GRAND THEFT MONEY/PROPERTY > $400|MISDEMEANOR COMPLAINT FILED|PENDLETON                               |GLENOAKS                       |34.2375|-118.3745|POINT (-118.3745 34.2375)|06/22/2010 12:00:00 AM|2108        |VALLEY - JAIL DIV|4279                 |Felony     |White                       |Female  |\n",
      "|121920046|RFC        |09/28/2012 |930 |19     |Mission   |1998              |60 |null             |null                          |25620(A)BP |null                             |MISDEMEANOR COMPLAINT FILED|7600    WOODMAN                      AV |null                           |34.2111|-118.4309|POINT (-118.4309 34.2111)|null                  |null        |null             |null                 |Misdemeanor|Hispanic/Laotianatin/Mexican|Male    |\n",
      "|101820989|RFC        |10/20/2010 |700 |18     |Southeast |1829              |14 |8                |Other Assaults                |242PC      |BATTERY                          |null                       |7200    QUAIL                        DR |null                           |34.1025|-118.2091|POINT (-118.2091 34.1025)|null                  |null        |null             |null                 |Misdemeanor|Hispanic/Laotianatin/Mexican|Male    |\n",
      "|90712341 |RFC        |03/10/2011 |940 |7      |Wilshire  |776               |45 |18               |Drunkeness                    |41.27CLAMC |DRINKING IN PUBLIC               |MISDEMEANOR COMPLAINT FILED|4500 W  WASHINGTON                   BL |null                           |34.0399|-118.3375|POINT (-118.3375 34.0399)|null                  |null        |null             |null                 |Misdemeanor|Black                       |Male    |\n",
      "|121909585|RFC        |04/01/2012 |1715|19     |Mission   |1993              |37 |null             |null                          |25620(A)BP |null                             |MISDEMEANOR COMPLAINT FILED|8100    SEPULVEDA                    PL |null                           |34.2208|-118.4662|POINT (-118.4662 34.2208)|null                  |null        |null             |null                 |Misdemeanor|Hispanic/Laotianatin/Mexican|Male    |\n",
      "|100109543|RFC        |04/14/2010 |1510|1      |Central   |158               |38 |13               |Prostitution/Allied           |653.22(A)PC|LOITER:INTENT:PROSTITUTION       |MISDEMEANOR COMPLAINT FILED|7TH                                     |TOWNE                        AV|34.0395|-118.2405|POINT (-118.2405 34.0395)|null                  |null        |null             |null                 |Misdemeanor|White                       |Female  |\n",
      "|100208368|RFC        |03/18/2010 |2110|2      |Rampart   |275               |40 |24               |Miscellaneous Other Violations|103.107.1BL|ESCORT WITHOUT PERMIT            |MISDEMEANOR COMPLAINT FILED|1900 W  OLYMPIC                      BL |null                           |34.0508|-118.2777|POINT (-118.2777 34.0508)|null                  |null        |null             |null                 |Misdemeanor|White                       |Female  |\n",
      "|100218913|RFC        |10/07/2010 |1835|2      |Rampart   |217               |32 |24               |Miscellaneous Other Violations|103.205.1BL|MASSAGE TECHNICIAN W/O PERMIT    |MISDEMEANOR COMPLAINT FILED|1900 W  TEMPLE                       ST |null                           |34.0727|-118.2637|POINT (-118.2637 34.0727)|null                  |null        |null             |null                 |Misdemeanor|Other                       |Female  |\n",
      "|100321755|RFC        |09/11/2010 |1840|3      |Southwest |359               |43 |24               |Miscellaneous Other Violations|103.202BLAM|PARKING LOT W/O PERMIT           |MISDEMEANOR COMPLAINT FILED|3800    FLOWER                       DR |null                           |34.014 |-118.2816|POINT (-118.2816 34.014) |null                  |null        |null             |null                 |Misdemeanor|Black                       |Male    |\n",
      "|100321757|RFC        |09/11/2010 |1730|3      |Southwest |359               |36 |24               |Miscellaneous Other Violations|103.202BLAM|PARKING LOT W/O PERMIT           |MISDEMEANOR COMPLAINT FILED|3800    FLOWER                       DR |null                           |34.014 |-118.2816|POINT (-118.2816 34.014) |null                  |null        |null             |null                 |Misdemeanor|Black                       |Male    |\n",
      "|100321798|RFC        |09/11/2010 |1750|3      |Southwest |359               |24 |24               |Miscellaneous Other Violations|103.202BLAM|PARKING LOT W/O PERMIT           |MISDEMEANOR COMPLAINT FILED|3800    FLOWER                       DR |null                           |34.014 |-118.2816|POINT (-118.2816 34.014) |null                  |null        |null             |null                 |Misdemeanor|Other                       |Male    |\n",
      "|100321800|RFC        |09/11/2010 |1750|3      |Southwest |359               |19 |24               |Miscellaneous Other Violations|103.202BLAM|PARKING LOT W/O PERMIT           |MISDEMEANOR COMPLAINT FILED|3800    FLOWER                       DR |null                           |34.014 |-118.2816|POINT (-118.2816 34.014) |null                  |null        |null             |null                 |Misdemeanor|Hispanic/Laotianatin/Mexican|Female  |\n",
      "|100325586|RFC        |11/06/2010 |1920|3      |Southwest |377               |51 |24               |Miscellaneous Other Violations|103.202BLAM|PARKING LOT W/O PERMIT           |MISDEMEANOR COMPLAINT FILED|BROWNING                                |VERMONT                        |34.0145|-118.298 |POINT (-118.298 34.0145) |null                  |null        |null             |null                 |Misdemeanor|Hispanic/Laotianatin/Mexican|Male    |\n",
      "|100404077|RFC        |01/03/2010 |15  |4      |Hollenbeck|456               |43 |19               |Disturbing the Peace          |112.01LAMC |NOISE ORDINANCE                  |MISDEMEANOR COMPLAINT FILED|2400    FAIRMONT                     AV |null                           |34.0499|-118.2009|POINT (-118.2009 34.0499)|null                  |null        |null             |null                 |Misdemeanor|Hispanic/Laotianatin/Mexican|Female  |\n",
      "|100406558|RFC        |02/26/2010 |2040|4      |Hollenbeck|463               |22 |19               |Disturbing the Peace          |112.01LAMC |NOISE ORDINANCE                  |MISDEMEANOR COMPLAINT FILED|2000 E  4TH                          ST |null                           |34.0462|-118.2153|POINT (-118.2153 34.0462)|null                  |null        |null             |null                 |Misdemeanor|Hispanic/Laotianatin/Mexican|Male    |\n",
      "|100409711|RFC        |05/08/2010 |2135|4      |Hollenbeck|412               |20 |18               |Drunkeness                    |41.27CLAMC |DRINKING IN PUBLIC               |MISDEMEANOR COMPLAINT FILED|AVENUE 33                               |ARTESIAN                       |34.0838|-118.2166|POINT (-118.2166 34.0838)|null                  |null        |null             |null                 |Misdemeanor|Hispanic/Laotianatin/Mexican|Male    |\n",
      "|100409797|RFC        |05/07/2010 |2125|4      |Hollenbeck|453               |27 |24               |Miscellaneous Other Violations|71.02BLAMC |OPER TAXI W/O FRANCHISE          |MISDEMEANOR COMPLAINT FILED|BAILEY                                  |1ST                          ST|34.0471|-118.2186|POINT (-118.2186 34.0471)|null                  |null        |null             |null                 |Misdemeanor|Hispanic/Laotianatin/Mexican|Male    |\n",
      "|100409813|RFC        |05/08/2010 |130 |4      |Hollenbeck|499               |15 |24               |Miscellaneous Other Violations|45.03LAMC  |CURFEW - JUV ONLY                |COUNSELED/RELEASED         |3500    UNION PACIFIC                AV |null                           |34.0166|-118.2028|POINT (-118.2028 34.0166)|null                  |null        |null             |null                 |Misdemeanor|Hispanic/Laotianatin/Mexican|Male    |\n",
      "|100409814|RFC        |05/08/2010 |100 |4      |Hollenbeck|499               |14 |24               |Miscellaneous Other Violations|45.03LAMC  |CURFEW - JUV ONLY                |COUNSELED/RELEASED         |1300    SPENCE                       ST |null                           |34.0188|-118.2028|POINT (-118.2028 34.0188)|null                  |null        |null             |null                 |Misdemeanor|Hispanic/Laotianatin/Mexican|Male    |\n",
      "|121920272|RFC        |09/15/2012 |40  |19     |Mission   |1913              |34 |null             |null                          |112.01BLAMC|null                             |MISDEMEANOR COMPLAINT FILED|13300    DE FOE                       AV|null                           |34.3119|-118.4596|POINT (-118.4596 34.3119)|null                  |null        |null             |null                 |Misdemeanor|Hispanic/Laotianatin/Mexican|Male    |\n",
      "+---------+-----------+-----------+----+-------+----------+------------------+---+-----------------+------------------------------+-----------+---------------------------------+---------------------------+----------------------------------------+-------------------------------+-------+---------+-------------------------+----------------------+------------+-----------------+---------------------+-----------+----------------------------+--------+\n",
      "only showing top 20 rows\n",
      "\n"
     ]
    }
   ],
   "source": [
    "def replace_words(Sex, WordsDict2):\n",
    "  \"\"\"_A function to replace the code with their corresponding meaning_\n",
    "\n",
    "  Args:\n",
    "      Sex (_string_): _A column depicting the gender code_\n",
    "      \n",
    "      WordsDict2 (_Dictionary_): _Dictionaries are used to store data values in key:value pairs . Here we have stored the values as follows :\n",
    "      F: Female and M: Male_\n",
    "\n",
    "  Returns:\n",
    "      _String_: _It will return the gender of the person by replacing the code with its meaning_\n",
    "  \"\"\"\n",
    "  for key, value in WordsDict2.items():\n",
    "    Sex = Sex.replace(key,value)\n",
    "  return Sex\n",
    "\n",
    "\"\"\"User Defined Function : We need to assign user defined function so that the function can be used for our dataframes\"\"\"\n",
    "replace_udf2 = f.udf(lambda Descent_Code:replace_words(Descent_Code,WordsDict2))\n",
    "df_pyspark = df_pyspark.withColumn(\"Sex_Code\",replace_udf2(f.col(\"Sex\"))).drop(\"Sex\")\n",
    "\n",
    "df_pyspark.show(truncate=False)"
   ]
  },
  {
   "cell_type": "code",
   "execution_count": 22,
   "metadata": {},
   "outputs": [],
   "source": [
    "WordsDict3={'BOOKING':'Booked at Detention Facility', 'RFC':'Released From Custody'}"
   ]
  },
  {
   "cell_type": "code",
   "execution_count": 23,
   "metadata": {},
   "outputs": [
    {
     "name": "stdout",
     "output_type": "stream",
     "text": [
      "+---------+-----------+----+-------+----------+------------------+---+-----------------+------------------------------+-----------+---------------------------------+---------------------------+----------------------------------------+-------------------------------+-------+---------+-------------------------+----------------------+------------+-----------------+---------------------+-----------+----------------------------+--------+----------------------------+\n",
      "|Report ID|Arrest_Date|Time|Area_ID|Area_Name |Reporting_District|Age|Charge_Group_Code|Charge_Group_Description      |Charge     |Charge_Description               |Desposition_Description    |Address                                 |Cross_Street                   |LAT    |LON      |Location                 |Booking_Date          |Booking_Time|Booking_Location |Booking_Location_Code|ArrestType |DescentCode                 |Sex_Code|Type_Of_Report              |\n",
      "+---------+-----------+----+-------+----------+------------------+---+-----------------+------------------------------+-----------+---------------------------------+---------------------------+----------------------------------------+-------------------------------+-------+---------+-------------------------+----------------------+------------+-----------------+---------------------+-----------+----------------------------+--------+----------------------------+\n",
      "|2377805  |06/22/2010 |1845|16     |Foothill  |1664              |46 |6                |Larceny                       |487(A)PC   |GRAND THEFT MONEY/PROPERTY > $400|MISDEMEANOR COMPLAINT FILED|PENDLETON                               |GLENOAKS                       |34.2375|-118.3745|POINT (-118.3745 34.2375)|06/22/2010 12:00:00 AM|2108        |VALLEY - JAIL DIV|4279                 |Felony     |White                       |Female  |Booked at Detention Facility|\n",
      "|121920046|09/28/2012 |930 |19     |Mission   |1998              |60 |null             |null                          |25620(A)BP |null                             |MISDEMEANOR COMPLAINT FILED|7600    WOODMAN                      AV |null                           |34.2111|-118.4309|POINT (-118.4309 34.2111)|null                  |null        |null             |null                 |Misdemeanor|Hispanic/Laotianatin/Mexican|Male    |Released From Custody       |\n",
      "|101820989|10/20/2010 |700 |18     |Southeast |1829              |14 |8                |Other Assaults                |242PC      |BATTERY                          |null                       |7200    QUAIL                        DR |null                           |34.1025|-118.2091|POINT (-118.2091 34.1025)|null                  |null        |null             |null                 |Misdemeanor|Hispanic/Laotianatin/Mexican|Male    |Released From Custody       |\n",
      "|90712341 |03/10/2011 |940 |7      |Wilshire  |776               |45 |18               |Drunkeness                    |41.27CLAMC |DRINKING IN PUBLIC               |MISDEMEANOR COMPLAINT FILED|4500 W  WASHINGTON                   BL |null                           |34.0399|-118.3375|POINT (-118.3375 34.0399)|null                  |null        |null             |null                 |Misdemeanor|Black                       |Male    |Released From Custody       |\n",
      "|121909585|04/01/2012 |1715|19     |Mission   |1993              |37 |null             |null                          |25620(A)BP |null                             |MISDEMEANOR COMPLAINT FILED|8100    SEPULVEDA                    PL |null                           |34.2208|-118.4662|POINT (-118.4662 34.2208)|null                  |null        |null             |null                 |Misdemeanor|Hispanic/Laotianatin/Mexican|Male    |Released From Custody       |\n",
      "|100109543|04/14/2010 |1510|1      |Central   |158               |38 |13               |Prostitution/Allied           |653.22(A)PC|LOITER:INTENT:PROSTITUTION       |MISDEMEANOR COMPLAINT FILED|7TH                                     |TOWNE                        AV|34.0395|-118.2405|POINT (-118.2405 34.0395)|null                  |null        |null             |null                 |Misdemeanor|White                       |Female  |Released From Custody       |\n",
      "|100208368|03/18/2010 |2110|2      |Rampart   |275               |40 |24               |Miscellaneous Other Violations|103.107.1BL|ESCORT WITHOUT PERMIT            |MISDEMEANOR COMPLAINT FILED|1900 W  OLYMPIC                      BL |null                           |34.0508|-118.2777|POINT (-118.2777 34.0508)|null                  |null        |null             |null                 |Misdemeanor|White                       |Female  |Released From Custody       |\n",
      "|100218913|10/07/2010 |1835|2      |Rampart   |217               |32 |24               |Miscellaneous Other Violations|103.205.1BL|MASSAGE TECHNICIAN W/O PERMIT    |MISDEMEANOR COMPLAINT FILED|1900 W  TEMPLE                       ST |null                           |34.0727|-118.2637|POINT (-118.2637 34.0727)|null                  |null        |null             |null                 |Misdemeanor|Other                       |Female  |Released From Custody       |\n",
      "|100321755|09/11/2010 |1840|3      |Southwest |359               |43 |24               |Miscellaneous Other Violations|103.202BLAM|PARKING LOT W/O PERMIT           |MISDEMEANOR COMPLAINT FILED|3800    FLOWER                       DR |null                           |34.014 |-118.2816|POINT (-118.2816 34.014) |null                  |null        |null             |null                 |Misdemeanor|Black                       |Male    |Released From Custody       |\n",
      "|100321757|09/11/2010 |1730|3      |Southwest |359               |36 |24               |Miscellaneous Other Violations|103.202BLAM|PARKING LOT W/O PERMIT           |MISDEMEANOR COMPLAINT FILED|3800    FLOWER                       DR |null                           |34.014 |-118.2816|POINT (-118.2816 34.014) |null                  |null        |null             |null                 |Misdemeanor|Black                       |Male    |Released From Custody       |\n",
      "|100321798|09/11/2010 |1750|3      |Southwest |359               |24 |24               |Miscellaneous Other Violations|103.202BLAM|PARKING LOT W/O PERMIT           |MISDEMEANOR COMPLAINT FILED|3800    FLOWER                       DR |null                           |34.014 |-118.2816|POINT (-118.2816 34.014) |null                  |null        |null             |null                 |Misdemeanor|Other                       |Male    |Released From Custody       |\n",
      "|100321800|09/11/2010 |1750|3      |Southwest |359               |19 |24               |Miscellaneous Other Violations|103.202BLAM|PARKING LOT W/O PERMIT           |MISDEMEANOR COMPLAINT FILED|3800    FLOWER                       DR |null                           |34.014 |-118.2816|POINT (-118.2816 34.014) |null                  |null        |null             |null                 |Misdemeanor|Hispanic/Laotianatin/Mexican|Female  |Released From Custody       |\n",
      "|100325586|11/06/2010 |1920|3      |Southwest |377               |51 |24               |Miscellaneous Other Violations|103.202BLAM|PARKING LOT W/O PERMIT           |MISDEMEANOR COMPLAINT FILED|BROWNING                                |VERMONT                        |34.0145|-118.298 |POINT (-118.298 34.0145) |null                  |null        |null             |null                 |Misdemeanor|Hispanic/Laotianatin/Mexican|Male    |Released From Custody       |\n",
      "|100404077|01/03/2010 |15  |4      |Hollenbeck|456               |43 |19               |Disturbing the Peace          |112.01LAMC |NOISE ORDINANCE                  |MISDEMEANOR COMPLAINT FILED|2400    FAIRMONT                     AV |null                           |34.0499|-118.2009|POINT (-118.2009 34.0499)|null                  |null        |null             |null                 |Misdemeanor|Hispanic/Laotianatin/Mexican|Female  |Released From Custody       |\n",
      "|100406558|02/26/2010 |2040|4      |Hollenbeck|463               |22 |19               |Disturbing the Peace          |112.01LAMC |NOISE ORDINANCE                  |MISDEMEANOR COMPLAINT FILED|2000 E  4TH                          ST |null                           |34.0462|-118.2153|POINT (-118.2153 34.0462)|null                  |null        |null             |null                 |Misdemeanor|Hispanic/Laotianatin/Mexican|Male    |Released From Custody       |\n",
      "|100409711|05/08/2010 |2135|4      |Hollenbeck|412               |20 |18               |Drunkeness                    |41.27CLAMC |DRINKING IN PUBLIC               |MISDEMEANOR COMPLAINT FILED|AVENUE 33                               |ARTESIAN                       |34.0838|-118.2166|POINT (-118.2166 34.0838)|null                  |null        |null             |null                 |Misdemeanor|Hispanic/Laotianatin/Mexican|Male    |Released From Custody       |\n",
      "|100409797|05/07/2010 |2125|4      |Hollenbeck|453               |27 |24               |Miscellaneous Other Violations|71.02BLAMC |OPER TAXI W/O FRANCHISE          |MISDEMEANOR COMPLAINT FILED|BAILEY                                  |1ST                          ST|34.0471|-118.2186|POINT (-118.2186 34.0471)|null                  |null        |null             |null                 |Misdemeanor|Hispanic/Laotianatin/Mexican|Male    |Released From Custody       |\n",
      "|100409813|05/08/2010 |130 |4      |Hollenbeck|499               |15 |24               |Miscellaneous Other Violations|45.03LAMC  |CURFEW - JUV ONLY                |COUNSELED/RELEASED         |3500    UNION PACIFIC                AV |null                           |34.0166|-118.2028|POINT (-118.2028 34.0166)|null                  |null        |null             |null                 |Misdemeanor|Hispanic/Laotianatin/Mexican|Male    |Released From Custody       |\n",
      "|100409814|05/08/2010 |100 |4      |Hollenbeck|499               |14 |24               |Miscellaneous Other Violations|45.03LAMC  |CURFEW - JUV ONLY                |COUNSELED/RELEASED         |1300    SPENCE                       ST |null                           |34.0188|-118.2028|POINT (-118.2028 34.0188)|null                  |null        |null             |null                 |Misdemeanor|Hispanic/Laotianatin/Mexican|Male    |Released From Custody       |\n",
      "|121920272|09/15/2012 |40  |19     |Mission   |1913              |34 |null             |null                          |112.01BLAMC|null                             |MISDEMEANOR COMPLAINT FILED|13300    DE FOE                       AV|null                           |34.3119|-118.4596|POINT (-118.4596 34.3119)|null                  |null        |null             |null                 |Misdemeanor|Hispanic/Laotianatin/Mexican|Male    |Released From Custody       |\n",
      "+---------+-----------+----+-------+----------+------------------+---+-----------------+------------------------------+-----------+---------------------------------+---------------------------+----------------------------------------+-------------------------------+-------+---------+-------------------------+----------------------+------------+-----------------+---------------------+-----------+----------------------------+--------+----------------------------+\n",
      "only showing top 20 rows\n",
      "\n"
     ]
    }
   ],
   "source": [
    "def replace_words(Report_Type, WordsDict3):\n",
    "  \"\"\"_A function to replace the type of Report with its corresponding meaning_\n",
    "\n",
    "  Args:\n",
    "      Report_Type (_string_): _It stores the type of report which is either BOOKING or RFC_\n",
    "\n",
    "      WordsDict3 (_dictionary_): _Dictionaries are used to store data values in key:value pairs . Here we have stored the values as follows :\n",
    "      BOOKING = Person is booked at a detention facility and RFC = Person is cited and Released From Custody (RFC)_\n",
    "\n",
    "  Returns:\n",
    "      _string_: _It returns the meaning of the type of report code which was earlier stored in the Report_Type column_\n",
    "  \"\"\"\n",
    "  for key, value in WordsDict3.items():\n",
    "    Report_Type = Report_Type.replace(key,value)\n",
    "  return Report_Type\n",
    "\n",
    "replace_udf3 = f.udf(lambda Report_Type:replace_words(Report_Type,WordsDict3))\n",
    "df_pyspark = df_pyspark.withColumn(\"Type_Of_Report\",replace_udf3(f.col(\"Report_Type\"))).drop(\"Report_Type\")\n",
    "df_pyspark.show(truncate=False)"
   ]
  },
  {
   "cell_type": "code",
   "execution_count": 24,
   "metadata": {},
   "outputs": [],
   "source": [
    "def time_convert(Time):\n",
    "\n",
    "    \"\"\"_A function to convert the array of time to the given format by converting the integer value stored in Time column to string format \n",
    "    and doing the required operation to convert it into the desired format_\n",
    "    \n",
    "    Parameters\n",
    "    Time: int \n",
    "    \n",
    "    Returns:\n",
    "        _type_: _String : We obtain the result by concatination of strings_\n",
    "    \"\"\"\n",
    "    if len(str(Time)) == 1:\n",
    "        return '00:0' + str(Time)\n",
    "    elif len(str(Time)) == 2:\n",
    "        return '00:' + str(Time)\n",
    "    elif len(str(Time)) == 3:\n",
    "        hours = str(Time)[0]\n",
    "        minutes = str(Time)[1:]\n",
    "        return '0'+hours + ':' + minutes\n",
    "    elif len(str(Time)) == 4:\n",
    "        hours = str(Time)[:2]\n",
    "        minutes = str(Time)[2:]\n",
    "        return hours + ':' + minutes\n",
    "\n",
    "\n",
    "    \"\"\"User Defined Function : We need to assign user defined function so that the function can be used for our dataframes\n",
    "    \"\"\"\n",
    "time_udf = f.udf(lambda Time:time_convert(Time))\n",
    "\n",
    "\n",
    "df_pyspark = df_pyspark.withColumn(\"TimeUpdated\",time_udf(f.col(\"Time\"))).drop(\"Time\")\n",
    "\n",
    "\n"
   ]
  },
  {
   "cell_type": "code",
   "execution_count": 25,
   "metadata": {},
   "outputs": [],
   "source": [
    "# Changing the datatype of the Arrest Date Column\n",
    "# hello world\n",
    "df_pyspark= df_pyspark.withColumn('ArrestDate',to_date(col(\"Arrest_Date\"),\"MM/dd/yyyy\").alias(\"ArrestDate\")).drop(\"Arrest_Date\")"
   ]
  },
  {
   "cell_type": "code",
   "execution_count": 26,
   "metadata": {},
   "outputs": [],
   "source": [
    "# Adding a Column to extract the year from the date of arrest\n",
    "df_pyspark=df_pyspark.withColumn('Year_Of_Arrest',year(df_pyspark.ArrestDate))"
   ]
  },
  {
   "cell_type": "code",
   "execution_count": 28,
   "metadata": {},
   "outputs": [
    {
     "name": "stderr",
     "output_type": "stream",
     "text": [
      "                                                                                \r"
     ]
    }
   ],
   "source": [
    "def Arrest_In_Year(df):\n",
    "    \"\"\"_This function returns the dataframe with no of arrest in a particular year_\n",
    "\n",
    "    Args:\n",
    "        df (_dataframe_): _dataframe_\n",
    "\n",
    "    Returns:\n",
    "        _dataframe_: _A dataframe with two records : year and no of arrest in that year_\n",
    "    \"\"\"\n",
    "    return df.groupBy(\"Year_Of_Arrest\").count().orderBy('count',ascending=False)\n",
    "\n",
    "d1=Arrest_In_Year(df_pyspark)\n",
    "d1.write.csv('Arrest_Year.csv',header='True')"
   ]
  },
  {
   "cell_type": "code",
   "execution_count": null,
   "metadata": {},
   "outputs": [
    {
     "name": "stderr",
     "output_type": "stream",
     "text": [
      "                                                                                \r"
     ]
    }
   ],
   "source": [
    "# #Area having maximum arrest\n",
    "# df8=res_df3.groupBy(\"LAT\",\"LON\").filter().count()\n",
    "# df8.write.csv('Location.csv')\n"
   ]
  },
  {
   "cell_type": "code",
   "execution_count": 29,
   "metadata": {},
   "outputs": [],
   "source": [
    "import csv"
   ]
  },
  {
   "cell_type": "code",
   "execution_count": 30,
   "metadata": {},
   "outputs": [
    {
     "name": "stderr",
     "output_type": "stream",
     "text": [
      "                                                                                \r"
     ]
    },
    {
     "data": {
      "text/plain": [
       "1321128"
      ]
     },
     "execution_count": 30,
     "metadata": {},
     "output_type": "execute_result"
    }
   ],
   "source": [
    "df_pyspark.count()"
   ]
  },
  {
   "cell_type": "code",
   "execution_count": 31,
   "metadata": {},
   "outputs": [
    {
     "name": "stderr",
     "output_type": "stream",
     "text": [
      "                                                                                \r"
     ]
    }
   ],
   "source": [
    "def Arrest_By_Gender_Yearly(df):\n",
    "    \"\"\"_This function returns the dataframe giving number of arrest in a year by a particular gender _\n",
    "\n",
    "    Args:\n",
    "        df (_dataframe_): _dataframe_\n",
    "\n",
    "    Returns:\n",
    "        _dataframe_: _returns the dataframe giving number of arrest in a year by a particular gender_\n",
    "    \"\"\"\n",
    "    return df.groupby(\"Sex_Code\",\"Year_Of_Arrest\").count().orderBy('Year_Of_Arrest','count')\n",
    "d2=Arrest_By_Gender_Yearly(df_pyspark)\n",
    "d2.write.csv('Arrest_By_Gender_Yearly',header='True')"
   ]
  },
  {
   "cell_type": "code",
   "execution_count": null,
   "metadata": {},
   "outputs": [
    {
     "name": "stderr",
     "output_type": "stream",
     "text": [
      "                                                                                \r"
     ]
    }
   ],
   "source": [
    "# d11=df_pyspark.groupby(\"DescentCode\").count()\n",
    "def Arrest_By_Descent_Code(df):\n",
    "    \"\"\"_This function returns the dataframe giving number of arrest of different ethnic group of people_\n",
    "\n",
    "    Args:\n",
    "        df (_dataframe_): _dataframe_\n",
    "\n",
    "    Returns:\n",
    "        _dataframe_: _returns the dataframe giving number of arrest of different ethnic group of people_\n",
    "    \"\"\"\n",
    "    return df.groupby(\"DescentCode\").count()\n",
    "d3=Arrest_By_Descent_Code(df_pyspark)\n",
    "d3.write.csv('Arrest_By_Descent_Code',header='True')"
   ]
  },
  {
   "cell_type": "code",
   "execution_count": 32,
   "metadata": {},
   "outputs": [
    {
     "name": "stderr",
     "output_type": "stream",
     "text": [
      "                                                                                \r"
     ]
    }
   ],
   "source": [
    "def Arrest_In_Area_By_Time(df):\n",
    "    \"\"\"_This function returns the no of arrest in area grouped by time at which the arrest was done_\n",
    "\n",
    "    Args:\n",
    "        df (_dataframe_): _dataframe_\n",
    "\n",
    "    Returns:\n",
    "        _datframe_: _returns the no of arrest in area grouped by time at which the arrest was done_\n",
    "    \"\"\"\n",
    "    return df.groupby(\"TimeUpdated\",\"Area_Name\").count()\n",
    "d4=Arrest_In_Area_By_Time(df_pyspark)\n",
    "d4=d4.filter(d4.Area_Name=='Central')\n",
    "d4.write.csv('Max_Number_Of_Arrest_By_Time',header='True')"
   ]
  },
  {
   "cell_type": "code",
   "execution_count": 35,
   "metadata": {},
   "outputs": [
    {
     "ename": "AnalysisException",
     "evalue": "path file:/Users/Megha/DemoProject/Distribution_Of_Crime already exists.",
     "output_type": "error",
     "traceback": [
      "\u001b[0;31m---------------------------------------------------------------------------\u001b[0m",
      "\u001b[0;31mAnalysisException\u001b[0m                         Traceback (most recent call last)",
      "\u001b[0;32m/var/folders/qn/p9y782tx51s7_7pl_nwvqm3h0000gp/T/ipykernel_77023/2047878764.py\u001b[0m in \u001b[0;36m<module>\u001b[0;34m\u001b[0m\n\u001b[1;32m     11\u001b[0m \u001b[0md5\u001b[0m\u001b[0;34m=\u001b[0m\u001b[0mDistribution_Of_Crime\u001b[0m\u001b[0;34m(\u001b[0m\u001b[0mdf_pyspark\u001b[0m\u001b[0;34m)\u001b[0m\u001b[0;34m\u001b[0m\u001b[0;34m\u001b[0m\u001b[0m\n\u001b[1;32m     12\u001b[0m \u001b[0md5\u001b[0m\u001b[0;34m=\u001b[0m\u001b[0md5\u001b[0m\u001b[0;34m.\u001b[0m\u001b[0mfilter\u001b[0m\u001b[0;34m(\u001b[0m\u001b[0md5\u001b[0m\u001b[0;34m.\u001b[0m\u001b[0mCharge_Group_Description\u001b[0m\u001b[0;34m!=\u001b[0m\u001b[0;34m'null'\u001b[0m\u001b[0;34m)\u001b[0m\u001b[0;34m\u001b[0m\u001b[0;34m\u001b[0m\u001b[0m\n\u001b[0;32m---> 13\u001b[0;31m \u001b[0md5\u001b[0m\u001b[0;34m.\u001b[0m\u001b[0mwrite\u001b[0m\u001b[0;34m.\u001b[0m\u001b[0mcsv\u001b[0m\u001b[0;34m(\u001b[0m\u001b[0;34m'Distribution_Of_Crime'\u001b[0m\u001b[0;34m,\u001b[0m\u001b[0mheader\u001b[0m\u001b[0;34m=\u001b[0m\u001b[0;34m'True'\u001b[0m\u001b[0;34m)\u001b[0m\u001b[0;34m\u001b[0m\u001b[0;34m\u001b[0m\u001b[0m\n\u001b[0m",
      "\u001b[0;32m~/opt/anaconda3/lib/python3.9/site-packages/pyspark/sql/readwriter.py\u001b[0m in \u001b[0;36mcsv\u001b[0;34m(self, path, mode, compression, sep, quote, escape, header, nullValue, escapeQuotes, quoteAll, dateFormat, timestampFormat, ignoreLeadingWhiteSpace, ignoreTrailingWhiteSpace, charToEscapeQuoteEscaping, encoding, emptyValue, lineSep)\u001b[0m\n\u001b[1;32m   1238\u001b[0m             \u001b[0mlineSep\u001b[0m\u001b[0;34m=\u001b[0m\u001b[0mlineSep\u001b[0m\u001b[0;34m,\u001b[0m\u001b[0;34m\u001b[0m\u001b[0;34m\u001b[0m\u001b[0m\n\u001b[1;32m   1239\u001b[0m         )\n\u001b[0;32m-> 1240\u001b[0;31m         \u001b[0mself\u001b[0m\u001b[0;34m.\u001b[0m\u001b[0m_jwrite\u001b[0m\u001b[0;34m.\u001b[0m\u001b[0mcsv\u001b[0m\u001b[0;34m(\u001b[0m\u001b[0mpath\u001b[0m\u001b[0;34m)\u001b[0m\u001b[0;34m\u001b[0m\u001b[0;34m\u001b[0m\u001b[0m\n\u001b[0m\u001b[1;32m   1241\u001b[0m \u001b[0;34m\u001b[0m\u001b[0m\n\u001b[1;32m   1242\u001b[0m     def orc(\n",
      "\u001b[0;32m~/opt/anaconda3/lib/python3.9/site-packages/py4j/java_gateway.py\u001b[0m in \u001b[0;36m__call__\u001b[0;34m(self, *args)\u001b[0m\n\u001b[1;32m   1319\u001b[0m \u001b[0;34m\u001b[0m\u001b[0m\n\u001b[1;32m   1320\u001b[0m         \u001b[0manswer\u001b[0m \u001b[0;34m=\u001b[0m \u001b[0mself\u001b[0m\u001b[0;34m.\u001b[0m\u001b[0mgateway_client\u001b[0m\u001b[0;34m.\u001b[0m\u001b[0msend_command\u001b[0m\u001b[0;34m(\u001b[0m\u001b[0mcommand\u001b[0m\u001b[0;34m)\u001b[0m\u001b[0;34m\u001b[0m\u001b[0;34m\u001b[0m\u001b[0m\n\u001b[0;32m-> 1321\u001b[0;31m         return_value = get_return_value(\n\u001b[0m\u001b[1;32m   1322\u001b[0m             answer, self.gateway_client, self.target_id, self.name)\n\u001b[1;32m   1323\u001b[0m \u001b[0;34m\u001b[0m\u001b[0m\n",
      "\u001b[0;32m~/opt/anaconda3/lib/python3.9/site-packages/pyspark/sql/utils.py\u001b[0m in \u001b[0;36mdeco\u001b[0;34m(*a, **kw)\u001b[0m\n\u001b[1;32m    194\u001b[0m                 \u001b[0;31m# Hide where the exception came from that shows a non-Pythonic\u001b[0m\u001b[0;34m\u001b[0m\u001b[0;34m\u001b[0m\u001b[0m\n\u001b[1;32m    195\u001b[0m                 \u001b[0;31m# JVM exception message.\u001b[0m\u001b[0;34m\u001b[0m\u001b[0;34m\u001b[0m\u001b[0m\n\u001b[0;32m--> 196\u001b[0;31m                 \u001b[0;32mraise\u001b[0m \u001b[0mconverted\u001b[0m \u001b[0;32mfrom\u001b[0m \u001b[0;32mNone\u001b[0m\u001b[0;34m\u001b[0m\u001b[0;34m\u001b[0m\u001b[0m\n\u001b[0m\u001b[1;32m    197\u001b[0m             \u001b[0;32melse\u001b[0m\u001b[0;34m:\u001b[0m\u001b[0;34m\u001b[0m\u001b[0;34m\u001b[0m\u001b[0m\n\u001b[1;32m    198\u001b[0m                 \u001b[0;32mraise\u001b[0m\u001b[0;34m\u001b[0m\u001b[0;34m\u001b[0m\u001b[0m\n",
      "\u001b[0;31mAnalysisException\u001b[0m: path file:/Users/Megha/DemoProject/Distribution_Of_Crime already exists."
     ]
    }
   ],
   "source": [
    "def Distribution_Of_Crime(df):\n",
    "    \"\"\"_This function returns the distribution of different criminal activities_\n",
    "\n",
    "    Args:\n",
    "        df (_dataframe_): _dataframe_\n",
    "\n",
    "    Returns:\n",
    "        _dataframe_: _returns the distribution of different criminal activities_\n",
    "    \"\"\"\n",
    "    return df.groupby(\"Charge_Group_Description\").count()\n",
    "d5=Distribution_Of_Crime(df_pyspark)\n",
    "d5=d5.filter(d5.Charge_Group_Description!='null')\n",
    "d5.write.csv('Distribution_Of_Crime',header='True')"
   ]
  },
  {
   "cell_type": "code",
   "execution_count": 36,
   "metadata": {},
   "outputs": [
    {
     "ename": "AnalysisException",
     "evalue": "path file:/Users/Megha/DemoProject/Arrest_By_Age already exists.",
     "output_type": "error",
     "traceback": [
      "\u001b[0;31m---------------------------------------------------------------------------\u001b[0m",
      "\u001b[0;31mAnalysisException\u001b[0m                         Traceback (most recent call last)",
      "\u001b[0;32m/var/folders/qn/p9y782tx51s7_7pl_nwvqm3h0000gp/T/ipykernel_77023/645691494.py\u001b[0m in \u001b[0;36m<module>\u001b[0;34m\u001b[0m\n\u001b[1;32m     11\u001b[0m \u001b[0md6\u001b[0m\u001b[0;34m=\u001b[0m\u001b[0mArrest_By_Age\u001b[0m\u001b[0;34m(\u001b[0m\u001b[0mdf_pyspark\u001b[0m\u001b[0;34m)\u001b[0m\u001b[0;34m\u001b[0m\u001b[0;34m\u001b[0m\u001b[0m\n\u001b[1;32m     12\u001b[0m \u001b[0md6\u001b[0m\u001b[0;34m=\u001b[0m\u001b[0md6\u001b[0m\u001b[0;34m.\u001b[0m\u001b[0mfilter\u001b[0m\u001b[0;34m(\u001b[0m\u001b[0md6\u001b[0m\u001b[0;34m.\u001b[0m\u001b[0mSex_Code\u001b[0m\u001b[0;34m==\u001b[0m\u001b[0;34m\"Male\"\u001b[0m\u001b[0;34m)\u001b[0m\u001b[0;34m\u001b[0m\u001b[0;34m\u001b[0m\u001b[0m\n\u001b[0;32m---> 13\u001b[0;31m \u001b[0md6\u001b[0m\u001b[0;34m.\u001b[0m\u001b[0mwrite\u001b[0m\u001b[0;34m.\u001b[0m\u001b[0mcsv\u001b[0m\u001b[0;34m(\u001b[0m\u001b[0;34m'Arrest_By_Age'\u001b[0m\u001b[0;34m,\u001b[0m\u001b[0mheader\u001b[0m\u001b[0;34m=\u001b[0m\u001b[0;34m'True'\u001b[0m\u001b[0;34m)\u001b[0m\u001b[0;34m\u001b[0m\u001b[0;34m\u001b[0m\u001b[0m\n\u001b[0m",
      "\u001b[0;32m~/opt/anaconda3/lib/python3.9/site-packages/pyspark/sql/readwriter.py\u001b[0m in \u001b[0;36mcsv\u001b[0;34m(self, path, mode, compression, sep, quote, escape, header, nullValue, escapeQuotes, quoteAll, dateFormat, timestampFormat, ignoreLeadingWhiteSpace, ignoreTrailingWhiteSpace, charToEscapeQuoteEscaping, encoding, emptyValue, lineSep)\u001b[0m\n\u001b[1;32m   1238\u001b[0m             \u001b[0mlineSep\u001b[0m\u001b[0;34m=\u001b[0m\u001b[0mlineSep\u001b[0m\u001b[0;34m,\u001b[0m\u001b[0;34m\u001b[0m\u001b[0;34m\u001b[0m\u001b[0m\n\u001b[1;32m   1239\u001b[0m         )\n\u001b[0;32m-> 1240\u001b[0;31m         \u001b[0mself\u001b[0m\u001b[0;34m.\u001b[0m\u001b[0m_jwrite\u001b[0m\u001b[0;34m.\u001b[0m\u001b[0mcsv\u001b[0m\u001b[0;34m(\u001b[0m\u001b[0mpath\u001b[0m\u001b[0;34m)\u001b[0m\u001b[0;34m\u001b[0m\u001b[0;34m\u001b[0m\u001b[0m\n\u001b[0m\u001b[1;32m   1241\u001b[0m \u001b[0;34m\u001b[0m\u001b[0m\n\u001b[1;32m   1242\u001b[0m     def orc(\n",
      "\u001b[0;32m~/opt/anaconda3/lib/python3.9/site-packages/py4j/java_gateway.py\u001b[0m in \u001b[0;36m__call__\u001b[0;34m(self, *args)\u001b[0m\n\u001b[1;32m   1319\u001b[0m \u001b[0;34m\u001b[0m\u001b[0m\n\u001b[1;32m   1320\u001b[0m         \u001b[0manswer\u001b[0m \u001b[0;34m=\u001b[0m \u001b[0mself\u001b[0m\u001b[0;34m.\u001b[0m\u001b[0mgateway_client\u001b[0m\u001b[0;34m.\u001b[0m\u001b[0msend_command\u001b[0m\u001b[0;34m(\u001b[0m\u001b[0mcommand\u001b[0m\u001b[0;34m)\u001b[0m\u001b[0;34m\u001b[0m\u001b[0;34m\u001b[0m\u001b[0m\n\u001b[0;32m-> 1321\u001b[0;31m         return_value = get_return_value(\n\u001b[0m\u001b[1;32m   1322\u001b[0m             answer, self.gateway_client, self.target_id, self.name)\n\u001b[1;32m   1323\u001b[0m \u001b[0;34m\u001b[0m\u001b[0m\n",
      "\u001b[0;32m~/opt/anaconda3/lib/python3.9/site-packages/pyspark/sql/utils.py\u001b[0m in \u001b[0;36mdeco\u001b[0;34m(*a, **kw)\u001b[0m\n\u001b[1;32m    194\u001b[0m                 \u001b[0;31m# Hide where the exception came from that shows a non-Pythonic\u001b[0m\u001b[0;34m\u001b[0m\u001b[0;34m\u001b[0m\u001b[0m\n\u001b[1;32m    195\u001b[0m                 \u001b[0;31m# JVM exception message.\u001b[0m\u001b[0;34m\u001b[0m\u001b[0;34m\u001b[0m\u001b[0m\n\u001b[0;32m--> 196\u001b[0;31m                 \u001b[0;32mraise\u001b[0m \u001b[0mconverted\u001b[0m \u001b[0;32mfrom\u001b[0m \u001b[0;32mNone\u001b[0m\u001b[0;34m\u001b[0m\u001b[0;34m\u001b[0m\u001b[0m\n\u001b[0m\u001b[1;32m    197\u001b[0m             \u001b[0;32melse\u001b[0m\u001b[0;34m:\u001b[0m\u001b[0;34m\u001b[0m\u001b[0;34m\u001b[0m\u001b[0m\n\u001b[1;32m    198\u001b[0m                 \u001b[0;32mraise\u001b[0m\u001b[0;34m\u001b[0m\u001b[0;34m\u001b[0m\u001b[0m\n",
      "\u001b[0;31mAnalysisException\u001b[0m: path file:/Users/Megha/DemoProject/Arrest_By_Age already exists."
     ]
    }
   ],
   "source": [
    "def Arrest_By_Age(df):\n",
    "    \"\"\"_This function returns the number of arrest grouped by age and gender_\n",
    "\n",
    "    Args:\n",
    "        df (_dataframe_): _dataframe_\n",
    "\n",
    "    Returns:\n",
    "        _dataframe_: _returns the number of arrest grouped by age and gender_\n",
    "    \"\"\"\n",
    "    return df.groupBy('Age','Sex_Code').count()\n",
    "d6=Arrest_By_Age(df_pyspark)\n",
    "d6=d6.filter(d6.Sex_Code==\"Male\")\n",
    "d6.write.csv('Arrest_By_Age',header='True')"
   ]
  },
  {
   "cell_type": "code",
   "execution_count": null,
   "metadata": {},
   "outputs": [],
   "source": []
  }
 ],
 "metadata": {
  "kernelspec": {
   "display_name": "Python 3",
   "language": "python",
   "name": "python3"
  },
  "language_info": {
   "codemirror_mode": {
    "name": "ipython",
    "version": 3
   },
   "file_extension": ".py",
   "mimetype": "text/x-python",
   "name": "python",
   "nbconvert_exporter": "python",
   "pygments_lexer": "ipython3",
   "version": "3.9.13"
  },
  "orig_nbformat": 4,
  "vscode": {
   "interpreter": {
    "hash": "2b9822e0739e4908f2925a149a3113472d77cbf7965e255368a9b459d35a59d8"
   }
  }
 },
 "nbformat": 4,
 "nbformat_minor": 2
}
